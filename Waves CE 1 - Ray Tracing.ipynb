{
 "metadata": {
  "name": "",
  "signature": "sha256:b3645da083a13d72cb1ede6a36bb93a9b9dfaf7df7e7a83f49651d33fd0e8ad4"
 },
 "nbformat": 3,
 "nbformat_minor": 0,
 "worksheets": [
  {
   "cells": [
    {
     "cell_type": "code",
     "collapsed": false,
     "input": [
      "%matplotlib inline\n",
      "import numpy as np\n",
      "import matplotlib.pyplot as plt\n",
      "import sympy\n",
      "sympy.init_printing()"
     ],
     "language": "python",
     "metadata": {},
     "outputs": []
    },
    {
     "cell_type": "markdown",
     "metadata": {},
     "source": [
      "## Ray Tracing\n",
      "$$ \\newcommand{\\vect}[1]{\\boldsymbol{#1}}\n",
      "\\newcommand{\\Rn}{\\ensuremath{\\mathbb{R}^n}}\n",
      "\\newcommand{\\ddxi}{\\frac{d}{dx^i}}\n",
      "\\newcommand{\\curly}[1]{\\mathcal{#1}}\n",
      "\\newcommand{\\dd}[2]{\\frac{\\partial #1}{\\partial #2}}\n",
      "\\renewcommand{\\d}[1]{\\operatorname{d}\\!{#1}} $$\n",
      "\n",
      "$$ \\frac{\\d x_j}{\\d t} = \\vect{c}_{gj} = \\dd{\\Omega}{k_j} $$\n",
      "$$ \\frac{\\d k_j}{\\d t} = - \\dd{\\Omega}{x_j} $$"
     ]
    },
    {
     "cell_type": "markdown",
     "metadata": {},
     "source": [
      "### Q1. Explicit forms\n",
      "\n",
      "$$\\begin{align}\n",
      "  \\Omega &= \\vect k \\cdot \\vect V + c_s |\\vect k| \\\\[2em]\n",
      "  \\dd{\\Omega}{k_j} &= V_j + c_s \\frac{k_j}{|\\vect k|} \\\\\n",
      "  \\dd{\\Omega}{x_j} &= \\vect k \\cdot \\dd{\\vect V}{x_j} + \\frac{R}{2 c_s (1 - \\kappa)} \\dd{T}{x_j} |\\vect k| \n",
      "\\end{align}$$"
     ]
    },
    {
     "cell_type": "code",
     "collapsed": false,
     "input": [
      "T,R,kappa = sympy.symbols(r'T R \\kappa')\n",
      "constants = {R: 278.04, kappa:0.27676}\n",
      "cs = sympy.sqrt(T*R/(1-kappa))\n",
      "cs"
     ],
     "language": "python",
     "metadata": {},
     "outputs": []
    },
    {
     "cell_type": "code",
     "collapsed": false,
     "input": [
      "# speed of sound at 290K\n",
      "c1 = cs.subs(constants).subs(T, 290).evalf(10)\n",
      "c1"
     ],
     "language": "python",
     "metadata": {},
     "outputs": []
    },
    {
     "cell_type": "code",
     "collapsed": false,
     "input": [
      "Hz = np.linspace(50,100,101)\n",
      "\n",
      "# speed = frequency [Hz ~ s^-1] * wavelength [m]\n",
      "wavelength = c1/Hz\n",
      "wavelength\n",
      "plt.plot(Hz, wavelength)\n",
      "plt.xlabel('frequency [Hz]')\n",
      "plt.ylabel('wavelength [m]')"
     ],
     "language": "python",
     "metadata": {},
     "outputs": []
    },
    {
     "cell_type": "code",
     "collapsed": false,
     "input": [
      "omega = 2*pi*Hz\n"
     ],
     "language": "python",
     "metadata": {},
     "outputs": []
    },
    {
     "cell_type": "markdown",
     "metadata": {},
     "source": [
      "### Question 3.\n",
      "\n"
     ]
    },
    {
     "cell_type": "code",
     "collapsed": false,
     "input": [
      "def makeomegagrad(V, Vx, T, Tx):\n",
      "    def omegagrad(k, x, R=278.04, Cp=1004.64):\n",
      "        kappa = R / Cp\n",
      "        cs=np.sqrt(R*T/(1.0-kappa))\n",
      "        absk = np.sqrt(np.sum(k**2))\n",
      "        omega= np.dot(k,V) + cs*absk\n",
      "        dodk = V + cs*k/absk\n",
      "        dodx = np.dot(Vx, k) + 0.5*absk*(cs/T)*Tx\n",
      "        return omega, dodk, dodx\n",
      "    return omegagrad\n",
      "\n",
      "# no wind, no temperature gradient\n",
      "o1 = makeomegagrad(np.zeros(3),np.zeros((3,3)), 285.0, np.zeros(3))"
     ],
     "language": "python",
     "metadata": {},
     "outputs": []
    },
    {
     "cell_type": "code",
     "collapsed": false,
     "input": [
      "DOMAIN = np.array([(-2000,2000),(-2000,2000),(0,1000)])\n",
      "def plot_rays(dispertion_relation, lambda0=3.0, dt=0.1, domain=DOMAIN):\n",
      "    absk = 2*pi/lambda0\n",
      "    x0 = np.array([0.0,0.0,1.0])\n",
      "\n",
      "    in_domain = lambda x: np.all((domain[:,0] < x) & (domain[:,1] > x))\n",
      "    thetas = np.linspace(0.47*pi, 0.5*pi, 6)\n",
      "    results = {}\n",
      "    for theta in thetas:\n",
      "        k0 = np.array([absk*np.sin(theta), 0, absk*np.cos(theta)])\n",
      "\n",
      "        t = 0\n",
      "        x = x0\n",
      "        k = k0\n",
      "        data = {'time':[],'omega':[],'k':[],'x':[]}\n",
      "        def add_data(t, o, k, x):\n",
      "            for k,v in {'time': t, 'omega': o, 'k':k, 'x':x}.items():\n",
      "                data[k].append(v)\n",
      "\n",
      "        while in_domain(x):\n",
      "            omega, cg, dodx = dispertion_relation(k,x)\n",
      "            t = t + dt\n",
      "            x = x + dt*cg\n",
      "            k = k - dt*dodx\n",
      "            add_data(t,omega,k,x)\n",
      "        data['k'] = np.array(data['k'])\n",
      "        data['x'] = np.array(data['x'])\n",
      "        results[theta] = data\n",
      "\n",
      "    plt.figure(figsize=(8,12))\n",
      "    for theta in thetas:\n",
      "        data = results[theta]\n",
      "        t = data['time']\n",
      "        o = data['omega']\n",
      "        x = data['x']\n",
      "        plt.subplot(311)\n",
      "        plt.plot(t,o)\n",
      "        plt.xlabel('time')\n",
      "        plt.ylabel('$\\omega$')\n",
      "        plt.subplot(312)\n",
      "        plt.plot(x[:,0],x[:,2])\n",
      "        plt.xlabel('x')\n",
      "        plt.ylabel('z')\n",
      "        plt.subplot(313)\n",
      "        plt.plot(x[:,0],x[:,1])\n",
      "        plt.xlabel('x')\n",
      "        plt.ylabel('y')\n",
      "\n",
      "\n",
      "plot_rays(o1)"
     ],
     "language": "python",
     "metadata": {},
     "outputs": []
    },
    {
     "cell_type": "code",
     "collapsed": false,
     "input": [
      "# allow for T to be a function of x\n",
      "def makeomegagrad(V, Vx, T, Tx):\n",
      "    if not callable(T):   # T is not a function of space\n",
      "        const = T\n",
      "        T = lambda x: const\n",
      "        Tx = lambda x: np.zeros(3)  # T const => derivative must be zero\n",
      "    \n",
      "    def omegagrad(k, x, R=278.04, Cp=1004.64):\n",
      "        kappa = R / Cp\n",
      "        cs=np.sqrt(R*T(x)/(1.0-kappa))\n",
      "        absk = np.sqrt(np.sum(k**2))\n",
      "        omega= np.dot(k,V) + cs*absk\n",
      "        dodk = V + cs*k/absk\n",
      "        dodx = np.dot(Vx, k) + 0.5*absk*(cs/T(x))*Tx(x)\n",
      "        return omega, dodk, dodx\n",
      "    return omegagrad\n",
      "\n",
      "Tlin = lambda x: 285 - 0.01 *x[2]\n",
      "Txlin = lambda x: np.array([0,0,-0.01])\n",
      "\n",
      "o2 = makeomegagrad(np.zeros(3), np.zeros((3,3)), Tlin, Txlin)\n",
      "plot_rays(o2)"
     ],
     "language": "python",
     "metadata": {},
     "outputs": []
    },
    {
     "cell_type": "code",
     "collapsed": false,
     "input": [
      "Tspring = lambda x: 285.0 - np.sqrt((0.0001*(x[2] - 500)**2 + 2))\n",
      "Tspringx = lambda x: np.array([0.0, 0.0, (0.05 - 0.0001*x[2]) / np.sqrt((0.0001*(x[2] - 500)**2 + 2))])\n",
      "o3 = makeomegagrad(np.zeros(3), np.zeros((3,3)), Tspring, Tspringx)\n",
      "\n",
      "plot_rays(o3)"
     ],
     "language": "python",
     "metadata": {},
     "outputs": []
    }
   ],
   "metadata": {}
  }
 ]
}