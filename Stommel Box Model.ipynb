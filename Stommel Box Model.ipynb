{
 "metadata": {
  "name": "",
  "signature": "sha256:75fa60a2c32fb6da364302de898f21fc1ab44c227b48b73dca233e7ba1dc6fb1"
 },
 "nbformat": 3,
 "nbformat_minor": 0,
 "worksheets": [
  {
   "cells": [
    {
     "cell_type": "code",
     "collapsed": false,
     "input": [
      "%matplotlib inline\n",
      "import numpy as np\n",
      "import matplotlib.pyplot as plt"
     ],
     "language": "python",
     "metadata": {},
     "outputs": []
    },
    {
     "cell_type": "code",
     "collapsed": false,
     "input": [
      "T=20.0\n",
      "k=5e9\n",
      "alpha=2e-4\n",
      "gamma=8e-4\n",
      "S0=35.0\n",
      "E=np.linspace(-1e6, 1e6, 101)\n",
      "q1 = (k*alpha*T+np.sqrt((k*alpha*T)**2 - 4*k*gamma*E*S0)) / 2.0"
     ],
     "language": "python",
     "metadata": {},
     "outputs": []
    },
    {
     "cell_type": "code",
     "collapsed": false,
     "input": [
      "plt.plot(E/1e6,q1/1e6)\n",
      "plt.xlabel('E [Sv]')\n",
      "plt.ylabel('q [Sv]')"
     ],
     "language": "python",
     "metadata": {},
     "outputs": []
    },
    {
     "cell_type": "code",
     "collapsed": false,
     "input": [
      "# first value where sqrt becomes complex\n",
      "E[4*k*gamma*E*S0 > (k*alpha*T)**2][0]"
     ],
     "language": "python",
     "metadata": {},
     "outputs": []
    },
    {
     "cell_type": "code",
     "collapsed": false,
     "input": [
      "rho=1020.0\n",
      "cp=3993\n",
      "plt.plot(E/1e6,rho*cp*q1*T)\n",
      "plt.xlabel('E [Sv]')\n",
      "plt.ylabel('heat flux  by $q_1$ [$J.s^{-1}$]')"
     ],
     "language": "python",
     "metadata": {},
     "outputs": []
    },
    {
     "cell_type": "code",
     "collapsed": false,
     "input": [
      "hv = 2.26e6\n",
      "plt.plot(E/1e6,rho*hv*E)\n",
      "plt.xlabel('E [Sv]')\n",
      "plt.ylabel('heat flux  by $E$ [$J.s^{-1}$]')"
     ],
     "language": "python",
     "metadata": {},
     "outputs": []
    },
    {
     "cell_type": "code",
     "collapsed": false,
     "input": [
      "plt.plot(E/1e6,rho*cp*q1*T)\n",
      "plt.plot(E/1e6,rho*hv*E)\n",
      "plt.xlabel('E [Sv]')\n",
      "plt.ylabel('heat flux [$J.s^{-1}$]')\n",
      "plt.legend(['$q_1$', '$E$'], 'lower right')"
     ],
     "language": "python",
     "metadata": {},
     "outputs": []
    }
   ],
   "metadata": {}
  }
 ]
}