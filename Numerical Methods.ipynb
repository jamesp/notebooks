{
 "metadata": {
  "name": "",
  "signature": "sha256:e06a35c3e98b71f71bf59aaaa0008128428190ea70d7e91cefc7785dc39dc19a"
 },
 "nbformat": 3,
 "nbformat_minor": 0,
 "worksheets": [
  {
   "cells": [
    {
     "cell_type": "code",
     "collapsed": false,
     "input": [
      "%matplotlib inline\n",
      "\n",
      "import matplotlib.pyplot as plt\n",
      "import numpy as np\n",
      "\n",
      "import functools"
     ],
     "language": "python",
     "metadata": {},
     "outputs": [],
     "prompt_number": 41
    },
    {
     "cell_type": "code",
     "collapsed": false,
     "input": [
      "def tridiag(n, d, u, l):\n",
      "    \"\"\"Create an nxn tridiagonal matrix with `d` along diagonal, `u` on\n",
      "    first upper diag and `l` on first lower\"\"\"\n",
      "    M = np.zeros((n,n))\n",
      "    i,j = np.indices((n,n))\n",
      "    M[i == j] = d\n",
      "    M[i == j-1] = u\n",
      "    M[i == j+1] = l\n",
      "    return M\n",
      "\n",
      "def memoize(obj):\n",
      "    cache = obj.cache = {}\n",
      "\n",
      "    @functools.wraps(obj)\n",
      "    def memoizer(*args, **kwargs):\n",
      "        key = str(args) + str(kwargs)\n",
      "        if key not in cache:\n",
      "            cache[key] = obj(*args, **kwargs)\n",
      "        return cache[key]\n",
      "    return memoizer\n"
     ],
     "language": "python",
     "metadata": {},
     "outputs": [],
     "prompt_number": 42
    },
    {
     "cell_type": "code",
     "collapsed": false,
     "input": [
      "def upto(g,T,dt):\n",
      "    \"\"\"Evaluate a generator up to time T, with step dt.\"\"\"\n",
      "    return [next(g) for i in range(int(round(T/dt)))]\n",
      "\n",
      "def euler(fn, x, dt):\n",
      "    \"\"\"Forward Euler method\"\"\"\n",
      "    return x + dt * fn(x)\n",
      "\n",
      "\n",
      "def eulergen(fn, x0, dt):\n",
      "    \"\"\"Returns an infinite generator of the Forward Euler method.\n",
      "    >>> g = eulergen(lambda x: x, 1.0, 0.1)\n",
      "    >>> plt.plot([next(g) for t in range(10)])\"\"\"\n",
      "    x = x0\n",
      "    while True:\n",
      "        x = euler(fn, x, dt)\n",
      "        yield x\n",
      "\n",
      "T=3.0\n",
      "dt=0.1\n",
      "x0=1.0\n",
      "plt.plot(np.arange(0,T,dt), upto(eulergen(lambda x: x, x0, dt), T, dt))"
     ],
     "language": "python",
     "metadata": {},
     "outputs": [
      {
       "metadata": {},
       "output_type": "pyout",
       "prompt_number": 6,
       "text": [
        "[<matplotlib.lines.Line2D at 0x7feb59069290>]"
       ]
      },
      {
       "metadata": {},
       "output_type": "display_data",
       "png": "[encoded data removed]",
       "text": [
        "<matplotlib.figure.Figure at 0x7feb591a6d90>"
       ]
      }
     ],
     "prompt_number": 6
    },
    {
     "cell_type": "code",
     "collapsed": false,
     "input": [
      "def upto(g,T,dt):\n",
      "    \"\"\"Evaluate a generator up to time T, with step dt.\"\"\"\n",
      "    return [next(g) for i in range(int(round(T/dt)))]\n",
      "\n",
      "def leapfrog(fn, x0, dt):\n",
      "    prevx = x0\n",
      "    x = euler(fn, x0, dt)  # prime with a single euler step forward\n",
      "    while True:\n",
      "        yield x\n",
      "        x, prevx = prevx + 2*dt*fn(x), x\n",
      "\n",
      "T=5.0\n",
      "dt=0.1\n",
      "x0=1.0\n",
      "plt.plot(np.arange(0,T,dt), upto(eulergen(lambda x: x, x0, dt), T, dt), 'k')\n",
      "plt.plot(np.arange(0,T,dt), upto(leapfrog(lambda x: x, x0, dt), T, dt), 'g')\n",
      "plt.plot(np.arange(0,T,dt), np.exp(np.arange(0,T,dt)),'r--')"
     ],
     "language": "python",
     "metadata": {},
     "outputs": [
      {
       "metadata": {},
       "output_type": "pyout",
       "prompt_number": 25,
       "text": [
        "[<matplotlib.lines.Line2D at 0x7feb5875ca10>]"
       ]
      },
      {
       "metadata": {},
       "output_type": "display_data",
       "png": "[encoded data removed]",
       "text": [
        "<matplotlib.figure.Figure at 0x7feb58825490>"
       ]
      }
     ],
     "prompt_number": 25
    },
    {
     "cell_type": "code",
     "collapsed": false,
     "input": [
      "@memoize\n",
      "def create_central_difference_matrix(N, dx, order=1):\n",
      "    if order == 1:\n",
      "        s = 1/(2*dx)\n",
      "        m = tridiag(N, 0, s, -s)\n",
      "        m[0,-1] = -s\n",
      "        m[-1, 0] = s\n",
      "    if order == 2:\n",
      "        s = 1 / dx**2\n",
      "        m = tridiag(N, -2*s, s, s)\n",
      "        m[0,-1] = m[-1,0] = s\n",
      "    return m\n",
      "\n",
      "@memoize\n",
      "def create_staggered_central_difference_matrix(N, dx, loc='edge', order=1):\n",
      "    if order == 1:\n",
      "        s = 1 / dx\n",
      "        if loc == 'edge':\n",
      "            m = tridiag(N, -s, s, 0)\n",
      "            m[-1, 0] = s\n",
      "        elif loc == 'centre':\n",
      "            m = tridiag(N, s, 0, -s)\n",
      "            m[-1, 0] = s\n",
      "    if order == 2:\n",
      "        raise NotImplementedError\n",
      "    return m\n",
      "\n",
      "@memoize\n",
      "def create_average_matrix(N, loc='edge'):\n",
      "    if loc == 'edge':\n",
      "        m = tridiag(N, 0.5, 0, 0.5)\n",
      "        m[0,-1] = 0.5\n",
      "    elif loc == 'centre':\n",
      "        m = tridiag(N, 0.5, 0.5, 0)\n",
      "        m[-1,0] = 0.5\n",
      "    return m\n",
      "\n",
      "def dfdx(f, dx):\n",
      "    m = create_central_difference_matrix(len(f), dx, order=1)\n",
      "    return np.dot(m, f)\n",
      "\n",
      "def d2fdx(f, dx):\n",
      "    m = create_central_difference_matrix(len(f), dx, order=2)\n",
      "    return np.dot(m, f)\n",
      "\n",
      "def dfdx_e(f, dx):\n",
      "    \"\"\"df/dx on cell edge for a variable defined at cell centre.\"\"\"\n",
      "    m = create_staggered_central_difference_matrix(len(f), dx, loc='edge', order=1)\n",
      "    return np.dot(m, f)\n",
      "\n",
      "def dfdx_c(f, dx):\n",
      "    \"\"\"df/dx at cell centre for a variable defined on cell edge.\"\"\"\n",
      "    m = create_staggered_central_difference_matrix(len(f), dx, loc='centre', order=1)\n",
      "    return np.dot(m, f)\n",
      "\n",
      "def f_e(f):\n",
      "    \"\"\"Return the value of cell-centred f on the edge.\"\"\"\n",
      "    m = create_average_matrix(len(f), 'edge')\n",
      "    return np.dot(m, f)\n",
      "    \n",
      "def f_c(f):\n",
      "    \"\"\"Return the value of edge-centred f at the cell-centre.\"\"\"\n",
      "    m = create_average_matrix(len(f), 'centre')\n",
      "        return np.dot(m, f)\n",
      "\n",
      "    \n",
      "def step(v, _v, dx, dt):\n",
      "    u,h,r = v\n",
      "    _u,_h,_r = _v\n",
      "    \n",
      "    ### Using leapfrog in time, lagged diffusion\n",
      "    \n",
      "    # At the cell edge - evaluate the momentum equation\n",
      "    dpdx = dfdx_e(phi(h) + c2*r, dx)\n",
      "    dudx = dfdx(u, dx)\n",
      "    d2udx = d2fdx(_u, dx)\n",
      "    \n",
      "    u_ = _u + 2*dt*(K*d2udx - u*dudx - dpdx)\n",
      "\n",
      "    ## At the cell centre - evaluate height and rain equations\n",
      "    dudx = dfdx_c(u, dx)\n",
      "    d2hdx = d2fdx(_h, dx)  # delay diffusion\n",
      "    duhdx = dfdx(f_c(u)*h, dx)\n",
      "    \n",
      "    h_ = _h + 2*dt*(K*d2hdx - duhdx)\n",
      "    \n",
      "    r_ = _r +\n",
      "    \n",
      "    \n",
      "\n",
      "# def create_dfdx(x, dx, order=1, stagger='none', boundary='periodic', method='central'):\n",
      "#     \"\"\"Returns the spatial derivative function of given order for a\n",
      "#     given discretised x domain.\n",
      "\n",
      "#     order:  The order of the derivative [1,2]\n",
      "#     stagger: On a staggered grid, the derivative of grid centred value at\n",
      "#              an edge is given by the difference of neighbouring centres.\n",
      "#                i-1    i    i+1\n",
      "#              +-----+-----+-----+\n",
      "#              |     |     |     |\n",
      "#              |  h  u  h  u  h  |\n",
      "#              |     |     |     |\n",
      "#              +-----+-----+-----+\n",
      "#                   i-\u00bd   i+\u00bd\n",
      "#              when at cell centre [i]:\n",
      "#                 dh/dx = (h[i+1] - h[i-1]) / 2*dx\n",
      "#              when at cell edge [i+\u00bd]:\n",
      "#                 dh/dx = (h[i+1] - h[i]) / dx\n",
      "#     \"\"\"\n",
      "    \n",
      "    \n",
      "\n",
      "X = 3.0\n",
      "dx = 0.01\n",
      "x = np.arange(0, X, dx)\n",
      "y = np.exp(-(x-(X/2))**2/0.1)\n",
      "plt.plot(x,y)\n",
      "\n",
      "\n",
      "\n",
      "cd = create_central_difference_matrix(len(x),dx,1)\n",
      "plt.plot(x, dfdx(y, dx))\n",
      "cd2 = create_central_difference_matrix(len(x),dx,2)\n",
      "plt.plot(x, d2fdx(y, dx))"
     ],
     "language": "python",
     "metadata": {},
     "outputs": [
      {
       "metadata": {},
       "output_type": "pyout",
       "prompt_number": 95,
       "text": [
        "[<matplotlib.lines.Line2D at 0x7feb4ea76750>]"
       ]
      },
      {
       "metadata": {},
       "output_type": "display_data",
       "png": "[encoded data removed]",
       "text": [
        "<matplotlib.figure.Figure at 0x7feb4ea846d0>"
       ]
      }
     ],
     "prompt_number": 95
    },
    {
     "cell_type": "code",
     "collapsed": false,
     "input": [
      "    \n",
      "\n",
      "def dfdx(fn, x, dx):\n",
      "    \"\"\"Calculates df/dx on a periodic domain.\"\"\"\n",
      "    create_central_difference_matrix()"
     ],
     "language": "python",
     "metadata": {},
     "outputs": []
    },
    {
     "cell_type": "code",
     "collapsed": false,
     "input": [
      "%%bash\n",
      "cd ../exeter_msc/\n",
      "cat num_methods.py"
     ],
     "language": "python",
     "metadata": {},
     "outputs": [
      {
       "output_type": "stream",
       "stream": "stdout",
       "text": [
        "import functools\n",
        "\n",
        "import numpy as np\n",
        "\n",
        "\n",
        "def memoize(obj):\n",
        "    cache = obj.cache = {}\n",
        "\n",
        "    @functools.wraps(obj)\n",
        "    def memoizer(*args, **kwargs):\n",
        "        key = str(args) + str(kwargs)\n",
        "        if key not in cache:\n",
        "            cache[key] = obj(*args, **kwargs)\n",
        "        return cache[key]\n",
        "    return memoizer\n",
        "\n",
        "@memoize\n",
        "def tridiag(n, d, u, l):\n",
        "    \"\"\"Create an nxn tridiagonal matrix with `d` along diagonal, `u` on\n",
        "    first upper diag and `l` on first lower\"\"\"\n",
        "    M = np.zeros((n,n))\n",
        "    i,j = np.indices((n,n))\n",
        "    M[i == j] = d\n",
        "    M[i == j-1] = u\n",
        "    M[i == j+1] = l\n",
        "    return M\n",
        "\n",
        "\n",
        "def euler(fn, x, dt):\n",
        "    return x + dt * fn(x)\n",
        "\n",
        "\n",
        "def eulergen(fn, x0, dt):\n",
        "    x = x0\n",
        "    while True:\n",
        "        x = euler(fn, x, dt)\n",
        "        yield x\n",
        "\n",
        "def upto(g,T,dt):\n",
        "    \"\"\"Evaluate a generator up to time T, with step dt.\"\"\"\n",
        "    return [next(g) for i in range(int(round(T/dt)))]\n",
        "\n",
        "def leapfrog(fn, x0, dt):\n",
        "    prevx = x0\n",
        "    x = euler(fn, x0, dt)  # prime with a single euler step forward\n",
        "    while True:\n",
        "        yield x\n",
        "        x, prevx = prevx + 2*dt*fn(x), x\n",
        "\n",
        "\n",
        "def create_dfdx(x, dx, order=1, stagger='none', boundary='periodic', method='central'):\n",
        "    \"\"\"Returns the spatial derivative function of given order for a\n",
        "    given discretised x domain.\n",
        "\n",
        "    order:  The order of the derivative [1,2]\n",
        "    stagger: On a staggered grid, the derivative of grid centred value at\n",
        "             an edge is given by the difference of neighbouring centres.\n",
        "               i-1    i    i+1\n",
        "             +-----+-----+-----+\n",
        "             |     |     |     |\n",
        "             |  h  u  h  u  h  |\n",
        "             |     |     |     |\n",
        "             +-----+-----+-----+\n",
        "                  i-\u00bd   i+\u00bd\n",
        "             when at cell centre [i]:\n",
        "                dh/dx = (h[i+1] - h[i-1]) / 2*dx\n",
        "             when at cell edge [i+\u00bd]:\n",
        "                dh/dx = (h[i+1] - h[i]) / dx\n",
        "    \"\"\"\n",
        "\n",
        "\n",
        "\n",
        "def dfdx(fn, x, dx):\n",
        "    \"\"\"Calculates df/dx on a periodic domain.\"\"\"\n"
       ]
      }
     ],
     "prompt_number": 13
    },
    {
     "cell_type": "code",
     "collapsed": false,
     "input": [
      "create_dfdx(1,2)"
     ],
     "language": "python",
     "metadata": {},
     "outputs": [],
     "prompt_number": 55
    },
    {
     "cell_type": "code",
     "collapsed": false,
     "input": [
      "len(np.arange(0,1,0.1))"
     ],
     "language": "python",
     "metadata": {},
     "outputs": [
      {
       "metadata": {},
       "output_type": "pyout",
       "prompt_number": 56,
       "text": [
        "10"
       ]
      }
     ],
     "prompt_number": 56
    },
    {
     "cell_type": "code",
     "collapsed": false,
     "input": [
      "ax = plt.axes()\n",
      "for x in np.arange(0,1,0.1):\n",
      "    ax.add_patch(plt.Rectangle((x,0), x+0.1, 0.1, fc='none'))\n"
     ],
     "language": "python",
     "metadata": {},
     "outputs": [
      {
       "metadata": {},
       "output_type": "display_data",
       "png": "[encoded data removed]",
       "text": [
        "<matplotlib.figure.Figure at 0x7feb4f16aa90>"
       ]
      }
     ],
     "prompt_number": 77
    },
    {
     "cell_type": "code",
     "collapsed": false,
     "input": [
      "ux = np.arange(0,1,dx)\n",
      "hx = ux + dx/2"
     ],
     "language": "python",
     "metadata": {},
     "outputs": [],
     "prompt_number": 81
    },
    {
     "cell_type": "code",
     "collapsed": false,
     "input": [
      "plt.scatter(hx, np.ones_like(hx))\n",
      "plt.scatter(ux, np.ones_like(ux))"
     ],
     "language": "python",
     "metadata": {},
     "outputs": [
      {
       "metadata": {},
       "output_type": "pyout",
       "prompt_number": 92,
       "text": [
        "<matplotlib.collections.PathCollection at 0x7feb4ec2d790>"
       ]
      },
      {
       "metadata": {},
       "output_type": "display_data",
       "png": "[encoded data removed]",
       "text": [
        "<matplotlib.figure.Figure at 0x7feb4eca4b90>"
       ]
      }
     ],
     "prompt_number": 92
    },
    {
     "cell_type": "code",
     "collapsed": false,
     "input": [
      "# class model1D(object):\n",
      "#     def __init__(self, xmin, xmax, dx, dt):\n",
      "#         self.x = np.arange(xmin, xmax, dx)\n",
      "#         self.t = 0\n",
      "#         self.edge_vars = {}\n",
      "#         self.centre_vars = {}\n",
      "#         self.eqns = []\n",
      "\n",
      "#     def add_edge_var(self, name, var):\n",
      "#         self.edge_vars[name] = var\n",
      "    \n",
      "#     def add_centre_var(self, name, var):\n",
      "#         self.centre_vars[name] = var\n",
      "    \n",
      "#     def add_evolution_equation(self, name, eqn):\n",
      "#         self.eqns.append(var, eqn)\n",
      "    \n",
      "#     def step(self):\n",
      "#         for v, e in eqns:\n",
      "            "
     ],
     "language": "python",
     "metadata": {},
     "outputs": []
    }
   ],
   "metadata": {}
  }
 ]
}