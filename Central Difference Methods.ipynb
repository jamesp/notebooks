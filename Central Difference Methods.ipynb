{
 "metadata": {
  "name": "",
  "signature": "sha256:c5c73b088b9f95aaef6ed78648bd043e7def97cd64719e422d36c35e2e7af7de"
 },
 "nbformat": 3,
 "nbformat_minor": 0,
 "worksheets": [
  {
   "cells": [
    {
     "cell_type": "code",
     "collapsed": false,
     "input": [
      "%matplotlib inline\n",
      "\n",
      "import numpy as np\n",
      "import matplotlib.pyplot as plt"
     ],
     "language": "python",
     "metadata": {},
     "outputs": []
    },
    {
     "cell_type": "code",
     "collapsed": false,
     "input": [
      "def tridiag(n, d, u, l):\n",
      "    \"\"\"Create an nxn tridiagonal matrix with `d` along diagonal, `u` on\n",
      "    first upper diag and `l` on first lower\"\"\"\n",
      "    M = np.zeros((n,n))\n",
      "    i,j = np.indices((n,n))\n",
      "    M[i == j] = d\n",
      "    M[i == j-1] = u\n",
      "    M[i == j+1] = l\n",
      "    return M"
     ],
     "language": "python",
     "metadata": {},
     "outputs": []
    },
    {
     "cell_type": "code",
     "collapsed": false,
     "input": [
      "# derivative testing\n",
      "X = 1\n",
      "dx = 0.01\n",
      "N = X/dx\n",
      "DYDX = tridiag(N, 0, -1, 1) / (2*dx)\n",
      "\n",
      "# periodic boundary conditions\n",
      "DYDX[0,-1] = 1 / (2*dx)\n",
      "DYDX[-1,0] = -1 / (2*dx)\n",
      "\n",
      "\n",
      "xs = np.linspace(0,X-dx,N)\n",
      "ys = np.sin(2*np.pi*xs/X)\n",
      "deriv = np.dot(ys, DYDX)/(2*np.pi)\n",
      "plt.plot(xs, ys)\n",
      "plt.plot(xs, deriv)"
     ],
     "language": "python",
     "metadata": {},
     "outputs": []
    },
    {
     "cell_type": "code",
     "collapsed": false,
     "input": [
      "## second derivative central difference\n",
      "\n",
      "DDYDXDX = tridiag(N, -2, 1, 1) / (dx**2)\n",
      "# periodic boundary conditions\n",
      "DDYDXDX[0, -1] = 1 / (dx**2)\n",
      "DDYDXDX[-1, 0] = 1 / (dx**2)\n",
      "\n",
      "\n",
      "deriv2 = np.dot(ys, DDYDXDX) / (2*np.pi)**2\n",
      "plt.plot(xs, ys)\n",
      "plt.plot(xs, deriv2)"
     ],
     "language": "python",
     "metadata": {},
     "outputs": []
    },
    {
     "cell_type": "code",
     "collapsed": false,
     "input": [
      "ys"
     ],
     "language": "python",
     "metadata": {},
     "outputs": []
    },
    {
     "cell_type": "code",
     "collapsed": false,
     "input": [
      "np.arange(0,10)"
     ],
     "language": "python",
     "metadata": {},
     "outputs": []
    },
    {
     "cell_type": "code",
     "collapsed": false,
     "input": [],
     "language": "python",
     "metadata": {},
     "outputs": []
    }
   ],
   "metadata": {}
  }
 ]
}