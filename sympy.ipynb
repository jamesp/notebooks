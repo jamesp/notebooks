{
 "metadata": {
  "name": "",
  "signature": "sha256:5f31d541d78659ef0fb1d62c1329be181074011a1c3664fe63a881228228222c"
 },
 "nbformat": 3,
 "nbformat_minor": 0,
 "worksheets": [
  {
   "cells": [
    {
     "cell_type": "code",
     "collapsed": false,
     "input": [
      "%matplotlib inline\n",
      "from sympy import *\n",
      "from sympy.abc import a, b, c, x, y, z, sigma, omega, phi, psi, theta\n",
      "init_printing()"
     ],
     "language": "python",
     "metadata": {},
     "outputs": [],
     "prompt_number": 52
    },
    {
     "cell_type": "code",
     "collapsed": false,
     "input": [
      "a = Integral(cos(theta)+sin(theta), theta)\n",
      "Eq(a, a.doit())"
     ],
     "language": "python",
     "metadata": {},
     "outputs": [
      {
       "latex": [
        "$$\\int \\sin{\\left (\\theta \\right )} + \\cos{\\left (\\theta \\right )}\\, d\\theta = \\sin{\\left (\\theta \\right )} - \\cos{\\left (\\theta \\right )}$$"
       ],
       "metadata": {},
       "output_type": "pyout",
       "png": "[encoded data removed]",
       "prompt_number": 53,
       "text": [
        "\u2320                                       \n",
        "\u23ae (sin(\u03b8) + cos(\u03b8)) d\u03b8 = sin(\u03b8) - cos(\u03b8)\n",
        "\u2321                                       "
       ]
      }
     ],
     "prompt_number": 53
    },
    {
     "cell_type": "code",
     "collapsed": false,
     "input": [
      "Eq(x**2,2)"
     ],
     "language": "python",
     "metadata": {},
     "outputs": [
      {
       "latex": [
        "$$x^{2} = 2$$"
       ],
       "metadata": {},
       "output_type": "pyout",
       "png": "[encoded data removed]",
       "prompt_number": 57,
       "text": [
        " 2    \n",
        "x  = 2"
       ]
      }
     ],
     "prompt_number": 57
    },
    {
     "cell_type": "code",
     "collapsed": false,
     "input": [
      "solve([x + y - 1, x - y - 1], [x,y])"
     ],
     "language": "python",
     "metadata": {},
     "outputs": [
      {
       "latex": [
        "$$\\left \\{ x : 1, \\quad y : 0\\right \\}$$"
       ],
       "metadata": {},
       "output_type": "pyout",
       "png": "[encoded data removed]",
       "prompt_number": 58,
       "text": [
        "{x: 1, y: 0}"
       ]
      }
     ],
     "prompt_number": 58
    },
    {
     "cell_type": "code",
     "collapsed": false,
     "input": [
      "series(exp(I*x), x, 0)"
     ],
     "language": "python",
     "metadata": {},
     "outputs": [
      {
       "latex": [
        "$$1 + i x - \\frac{x^{2}}{2} - \\frac{i x^{3}}{6} + \\frac{x^{4}}{24} + \\frac{i x^{5}}{120} + \\mathcal{O}\\left(x^{6}\\right)$$"
       ],
       "metadata": {},
       "output_type": "pyout",
       "png": "[encoded data removed]",
       "prompt_number": 30,
       "text": [
        "           2      3    4      5        \n",
        "          x    \u2148\u22c5x    x    \u2148\u22c5x     \u239b 6\u239e\n",
        "1 + \u2148\u22c5x - \u2500\u2500 - \u2500\u2500\u2500\u2500 + \u2500\u2500 + \u2500\u2500\u2500\u2500 + O\u239dx \u23a0\n",
        "          2     6     24   120         "
       ]
      }
     ],
     "prompt_number": 30
    },
    {
     "cell_type": "code",
     "collapsed": false,
     "input": [
      "I*series(sin(x),x,0) + series(cos(x),x,0)"
     ],
     "language": "python",
     "metadata": {},
     "outputs": [
      {
       "latex": [
        "$$1 + i \\left(x - \\frac{x^{3}}{6} + \\frac{x^{5}}{120} + \\mathcal{O}\\left(x^{6}\\right)\\right) - \\frac{x^{2}}{2} + \\frac{x^{4}}{24} + \\mathcal{O}\\left(x^{6}\\right)$$"
       ],
       "metadata": {},
       "output_type": "pyout",
       "png": "[encoded data removed]",
       "prompt_number": 33,
       "text": [
        "      \u239b     3     5        \u239e    2    4        \n",
        "      \u239c    x     x     \u239b 6\u239e\u239f   x    x     \u239b 6\u239e\n",
        "1 + \u2148\u22c5\u239cx - \u2500\u2500 + \u2500\u2500\u2500 + O\u239dx \u23a0\u239f - \u2500\u2500 + \u2500\u2500 + O\u239dx \u23a0\n",
        "      \u239d    6    120        \u23a0   2    24        "
       ]
      }
     ],
     "prompt_number": 33
    },
    {
     "cell_type": "code",
     "collapsed": false,
     "input": [
      "sigma = symbols('\\sigma')\n",
      "m11, m12, m21, m22 = symbols(\"m11, m12, m21, m22\")\n",
      "A = Matrix([[sigma*m11, sigma*m12],\n",
      "            [m21, m22]])\n",
      "A"
     ],
     "language": "python",
     "metadata": {},
     "outputs": [
      {
       "latex": [
        "$$\\left[\\begin{matrix}\\sigma m_{11} & \\sigma m_{12}\\\\m_{21} & m_{22}\\end{matrix}\\right]$$"
       ],
       "metadata": {},
       "output_type": "pyout",
       "prompt_number": 39,
       "text": [
        "\u23a1\\sigma\u22c5m\u2081\u2081  \\sigma\u22c5m\u2081\u2082\u23a4\n",
        "\u23a2                      \u23a5\n",
        "\u23a3   m\u2082\u2081         m\u2082\u2082    \u23a6"
       ]
      }
     ],
     "prompt_number": 39
    },
    {
     "cell_type": "code",
     "collapsed": false,
     "input": [
      "A.det()"
     ],
     "language": "python",
     "metadata": {},
     "outputs": [
      {
       "latex": [
        "$$\\sigma m_{11} m_{22} - \\sigma m_{12} m_{21}$$"
       ],
       "metadata": {},
       "output_type": "pyout",
       "png": "[encoded data removed]",
       "prompt_number": 40,
       "text": [
        "\\sigma\u22c5m\u2081\u2081\u22c5m\u2082\u2082 - \\sigma\u22c5m\u2081\u2082\u22c5m\u2082\u2081"
       ]
      }
     ],
     "prompt_number": 40
    },
    {
     "cell_type": "code",
     "collapsed": false,
     "input": [
      "A.inv()"
     ],
     "language": "python",
     "metadata": {},
     "outputs": [
      {
       "latex": [
        "$$\\left[\\begin{matrix}\\frac{1}{\\sigma m_{11}} + \\frac{m_{12} m_{21}}{\\sigma m_{11}^{2} \\left(m_{22} - \\frac{m_{12} m_{21}}{m_{11}}\\right)} & - \\frac{m_{12}}{m_{11} \\left(m_{22} - \\frac{m_{12} m_{21}}{m_{11}}\\right)}\\\\- \\frac{m_{21}}{\\sigma m_{11} \\left(m_{22} - \\frac{m_{12} m_{21}}{m_{11}}\\right)} & \\frac{1}{m_{22} - \\frac{m_{12} m_{21}}{m_{11}}}\\end{matrix}\\right]$$"
       ],
       "metadata": {},
       "output_type": "pyout",
       "prompt_number": 42,
       "text": [
        "\u23a1    1                  m\u2081\u2082\u22c5m\u2082\u2081                   -m\u2081\u2082        \u23a4\n",
        "\u23a2\u2500\u2500\u2500\u2500\u2500\u2500\u2500\u2500\u2500\u2500 + \u2500\u2500\u2500\u2500\u2500\u2500\u2500\u2500\u2500\u2500\u2500\u2500\u2500\u2500\u2500\u2500\u2500\u2500\u2500\u2500\u2500\u2500\u2500\u2500\u2500\u2500\u2500  \u2500\u2500\u2500\u2500\u2500\u2500\u2500\u2500\u2500\u2500\u2500\u2500\u2500\u2500\u2500\u2500\u2500\u2500\u2500\u23a5\n",
        "\u23a2\\sigma\u22c5m\u2081\u2081             2 \u239b      m\u2081\u2082\u22c5m\u2082\u2081\u239e      \u239b      m\u2081\u2082\u22c5m\u2082\u2081\u239e\u23a5\n",
        "\u23a2             \\sigma\u22c5m\u2081\u2081 \u22c5\u239cm\u2082\u2082 - \u2500\u2500\u2500\u2500\u2500\u2500\u2500\u239f  m\u2081\u2081\u22c5\u239cm\u2082\u2082 - \u2500\u2500\u2500\u2500\u2500\u2500\u2500\u239f\u23a5\n",
        "\u23a2                         \u239d        m\u2081\u2081  \u23a0      \u239d        m\u2081\u2081  \u23a0\u23a5\n",
        "\u23a2                                                             \u23a5\n",
        "\u23a2                 -m\u2082\u2081                              1         \u23a5\n",
        "\u23a2       \u2500\u2500\u2500\u2500\u2500\u2500\u2500\u2500\u2500\u2500\u2500\u2500\u2500\u2500\u2500\u2500\u2500\u2500\u2500\u2500\u2500\u2500\u2500\u2500\u2500\u2500            \u2500\u2500\u2500\u2500\u2500\u2500\u2500\u2500\u2500\u2500\u2500\u2500\u2500   \u23a5\n",
        "\u23a2                  \u239b      m\u2081\u2082\u22c5m\u2082\u2081\u239e                  m\u2081\u2082\u22c5m\u2082\u2081   \u23a5\n",
        "\u23a2       \\sigma\u22c5m\u2081\u2081\u22c5\u239cm\u2082\u2082 - \u2500\u2500\u2500\u2500\u2500\u2500\u2500\u239f            m\u2082\u2082 - \u2500\u2500\u2500\u2500\u2500\u2500\u2500   \u23a5\n",
        "\u23a3                  \u239d        m\u2081\u2081  \u23a0                    m\u2081\u2081     \u23a6"
       ]
      }
     ],
     "prompt_number": 42
    },
    {
     "cell_type": "code",
     "collapsed": false,
     "input": [
      "solve(x**4 - x**2 - 1, x)"
     ],
     "language": "python",
     "metadata": {},
     "outputs": [
      {
       "latex": [
        "$$\\left [ - i \\sqrt{- \\frac{1}{2} + \\frac{\\sqrt{5}}{2}}, \\quad i \\sqrt{- \\frac{1}{2} + \\frac{\\sqrt{5}}{2}}, \\quad - \\sqrt{\\frac{1}{2} + \\frac{\\sqrt{5}}{2}}, \\quad \\sqrt{\\frac{1}{2} + \\frac{\\sqrt{5}}{2}}\\right ]$$"
       ],
       "metadata": {},
       "output_type": "pyout",
       "png": "[encoded data removed]",
       "prompt_number": 43,
       "text": [
        "\u23a1        _____________         _____________        ___________       ________\n",
        "\u23a2       \u2571         ___         \u2571         ___        \u2571       ___       \u2571       _\n",
        "\u23a2      \u2571    1   \u2572\u2571 5         \u2571    1   \u2572\u2571 5        \u2571  1   \u2572\u2571 5       \u2571  1   \u2572\u2571 \n",
        "\u23a2-\u2148\u22c5  \u2571   - \u2500 + \u2500\u2500\u2500\u2500\u2500 , \u2148\u22c5  \u2571   - \u2500 + \u2500\u2500\u2500\u2500\u2500 , -  \u2571   \u2500 + \u2500\u2500\u2500\u2500\u2500 ,   \u2571   \u2500 + \u2500\u2500\u2500\n",
        "\u23a3   \u2572\u2571      2     2       \u2572\u2571      2     2      \u2572\u2571    2     2     \u2572\u2571    2     2\n",
        "\n",
        "___\u23a4\n",
        "__ \u23a5\n",
        "5  \u23a5\n",
        "\u2500\u2500 \u23a5\n",
        "   \u23a6"
       ]
      }
     ],
     "prompt_number": 43
    },
    {
     "cell_type": "code",
     "collapsed": false,
     "input": [],
     "language": "python",
     "metadata": {},
     "outputs": []
    }
   ],
   "metadata": {}
  }
 ]
}