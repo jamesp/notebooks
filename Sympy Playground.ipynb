{
 "metadata": {
  "name": "",
  "signature": "sha256:6b377faaa245bdae05ce18cd4e2bf8fbe76fbe3e54d995e356b8c874b3bd9c8f"
 },
 "nbformat": 3,
 "nbformat_minor": 0,
 "worksheets": [
  {
   "cells": [
    {
     "cell_type": "code",
     "collapsed": false,
     "input": [
      "%matplotlib inline\n",
      "from sympy import *\n",
      "from sympy.abc import a, b, c, x, y, z, sigma, omega, phi, psi, zeta, theta\n",
      "init_printing()"
     ],
     "language": "python",
     "metadata": {},
     "outputs": [],
     "prompt_number": 6
    },
    {
     "cell_type": "code",
     "collapsed": false,
     "input": [
      "a = Integral(cos(theta)+sin(theta), theta)\n",
      "Eq(a, a.doit())"
     ],
     "language": "python",
     "metadata": {},
     "outputs": []
    },
    {
     "cell_type": "code",
     "collapsed": false,
     "input": [
      "Eq(x**2,2)"
     ],
     "language": "python",
     "metadata": {},
     "outputs": []
    },
    {
     "cell_type": "code",
     "collapsed": false,
     "input": [
      "solve([x + y - 1, x - y - 1], [x,y])"
     ],
     "language": "python",
     "metadata": {},
     "outputs": []
    },
    {
     "cell_type": "code",
     "collapsed": false,
     "input": [
      "series(exp(I*x), x, 0)"
     ],
     "language": "python",
     "metadata": {},
     "outputs": []
    },
    {
     "cell_type": "code",
     "collapsed": false,
     "input": [
      "I*series(sin(x),x,0) + series(cos(x),x,0)"
     ],
     "language": "python",
     "metadata": {},
     "outputs": []
    },
    {
     "cell_type": "code",
     "collapsed": false,
     "input": [
      "sigma = symbols('\\sigma')\n",
      "m11, m12, m21, m22 = symbols(\"m11, m12, m21, m22\")\n",
      "A = Matrix([[sigma*m11, sigma*m12],\n",
      "            [m21, m22]])\n",
      "A"
     ],
     "language": "python",
     "metadata": {},
     "outputs": []
    },
    {
     "cell_type": "code",
     "collapsed": false,
     "input": [
      "A.det()"
     ],
     "language": "python",
     "metadata": {},
     "outputs": []
    },
    {
     "cell_type": "code",
     "collapsed": false,
     "input": [
      "A.inv()"
     ],
     "language": "python",
     "metadata": {},
     "outputs": []
    },
    {
     "cell_type": "code",
     "collapsed": false,
     "input": [
      "solve(x**4 - x**2 - 1, x)"
     ],
     "language": "python",
     "metadata": {},
     "outputs": []
    },
    {
     "cell_type": "code",
     "collapsed": false,
     "input": [
      "\n"
     ],
     "language": "python",
     "metadata": {},
     "outputs": []
    },
    {
     "cell_type": "code",
     "collapsed": false,
     "input": [
      "u, v, t, zeta = symbols('u v t \\zeta')\n",
      "Eq(diff(zeta, t) + dot(u, gradient(zeta)),beta * v)"
     ],
     "language": "python",
     "metadata": {},
     "outputs": []
    },
    {
     "cell_type": "code",
     "collapsed": false,
     "input": [
      "import sympy.abc"
     ],
     "language": "python",
     "metadata": {},
     "outputs": []
    },
    {
     "cell_type": "code",
     "collapsed": false,
     "input": [
      "Eq(diff(zeta(x,t),t), z)"
     ],
     "language": "python",
     "metadata": {},
     "outputs": []
    },
    {
     "cell_type": "code",
     "collapsed": false,
     "input": [
      "x, y, u, v, t, zeta, b = symbols(r'x y u v t \\zeta \\beta')\n",
      "zeta = zeta(x,y,t)\n",
      "u = u(x,y,t)"
     ],
     "language": "python",
     "metadata": {},
     "outputs": []
    },
    {
     "cell_type": "code",
     "collapsed": false,
     "input": [
      "Eq(diff(zeta,t) + dot(u, gradient(zeta)), -b*v)"
     ],
     "language": "python",
     "metadata": {},
     "outputs": []
    },
    {
     "cell_type": "code",
     "collapsed": false,
     "input": [
      "gradient(zeta)"
     ],
     "language": "python",
     "metadata": {},
     "outputs": []
    },
    {
     "cell_type": "code",
     "collapsed": false,
     "input": [
      "from sympy.physics.vector import ReferenceFrame\n",
      "R = ReferenceFrame('R')"
     ],
     "language": "python",
     "metadata": {},
     "outputs": []
    },
    {
     "cell_type": "code",
     "collapsed": false,
     "input": [
      "R.x"
     ],
     "language": "python",
     "metadata": {},
     "outputs": []
    },
    {
     "cell_type": "code",
     "collapsed": false,
     "input": [],
     "language": "python",
     "metadata": {},
     "outputs": []
    },
    {
     "cell_type": "code",
     "collapsed": false,
     "input": [
      "omega, c, f,g, H, k, l = symbols(r'\\omega c f g H_0 k l')\n",
      "dispertion_relation = Eq((omega**2 - f**2)  / c**2 - (k**2 + l**2))\n",
      "dispertion_relation"
     ],
     "language": "python",
     "metadata": {},
     "outputs": []
    },
    {
     "cell_type": "code",
     "collapsed": false,
     "input": [
      "dispertion_relation.subs(c**2, g*H)"
     ],
     "language": "python",
     "metadata": {},
     "outputs": []
    },
    {
     "cell_type": "code",
     "collapsed": false,
     "input": [
      "plot_implicit(dispertion_relation.subs(l,0).subs(f,5).subs(c**2, 1), (k, -5, 5))"
     ],
     "language": "python",
     "metadata": {},
     "outputs": []
    },
    {
     "cell_type": "code",
     "collapsed": false,
     "input": [
      "plot_implicit(Eq(x**2+y**2, 16), x_var=x)"
     ],
     "language": "python",
     "metadata": {},
     "outputs": []
    },
    {
     "cell_type": "code",
     "collapsed": false,
     "input": [
      "pow(.4,0.01)"
     ],
     "language": "python",
     "metadata": {},
     "outputs": [
      {
       "metadata": {},
       "output_type": "pyout",
       "prompt_number": 4,
       "text": [
        "0.9908789441918076"
       ]
      }
     ],
     "prompt_number": 4
    },
    {
     "cell_type": "code",
     "collapsed": false,
     "input": [
      "solve(x**2 + x - 16)"
     ],
     "language": "python",
     "metadata": {},
     "outputs": [
      {
       "latex": [
        "$$\\left [ - \\frac{1}{2} + \\frac{\\sqrt{65}}{2}, \\quad - \\frac{\\sqrt{65}}{2} - \\frac{1}{2}\\right ]$$"
       ],
       "metadata": {},
       "output_type": "pyout",
       "png": "[encoded data removed]",
       "prompt_number": 7,
       "text": [
        "\u23a1        ____      ____    \u23a4\n",
        "\u23a2  1   \u2572\u2571 65     \u2572\u2571 65    1\u23a5\n",
        "\u23a2- \u2500 + \u2500\u2500\u2500\u2500\u2500\u2500, - \u2500\u2500\u2500\u2500\u2500\u2500 - \u2500\u23a5\n",
        "\u23a3  2     2         2      2\u23a6"
       ]
      }
     ],
     "prompt_number": 7
    },
    {
     "cell_type": "code",
     "collapsed": false,
     "input": [],
     "language": "python",
     "metadata": {},
     "outputs": []
    }
   ],
   "metadata": {}
  }
 ]
}