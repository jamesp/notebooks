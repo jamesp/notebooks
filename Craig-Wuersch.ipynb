{
 "metadata": {
  "name": "",
  "signature": "sha256:654b1858ad07b85b5ab7702faf7c3ca8865b3a198bd7cad2e9ec87a67f3641a4"
 },
 "nbformat": 3,
 "nbformat_minor": 0,
 "worksheets": [
  {
   "cells": [
    {
     "cell_type": "markdown",
     "metadata": {},
     "source": [
      "# Cumulus Convection\n",
      "\n",
      "**Paper:** A simple dynamical model of cumulus convection for data assimilation research\n",
      "\n",
      "**Authors:** M. W\u00fcrsch & G. Craig\n",
      "\n",
      "## Shallow Water Equations \n",
      "\n",
      "\\begin{align}\n",
      "u_t + uu_x + \\phi_x  &= Ku_{xx} \\\\\n",
      "h_t + (uh)_x &= Kh_{xx}\n",
      "\\end{align}\n",
      "\n",
      "$\\phi$ is the geopotential. \n",
      "In the basic case $\\phi = g(h + H)$ with $h$ the fluid height and $H$ the height of the topology."
     ]
    },
    {
     "cell_type": "code",
     "collapsed": false,
     "input": [
      "%matplotlib inline\n",
      "\n",
      "import matplotlib.pyplot as plt\n",
      "import numpy as np\n"
     ],
     "language": "python",
     "metadata": {},
     "outputs": []
    },
    {
     "cell_type": "code",
     "collapsed": false,
     "input": [
      "# PARAMETERS\n",
      "X = 50000.0\n",
      "dx = 500.0\n",
      "dt = 5.0\n",
      "\n",
      "H0 = 90.0\n",
      "Hc = 90.04\n",
      "Hr = 90.4\n",
      "\n",
      "g = 9.8\n",
      "\n",
      "phi_c = 899.77\n",
      "beta = 3.0\n",
      "alpha = 2.5e-4\n",
      "\n",
      "ubar = 0.005\n",
      "l = 2000.0\n",
      "\n",
      "F_rate = 1.6e-6\n",
      "\n",
      "K = 25000.0\n",
      "Kr = 200.0"
     ],
     "language": "python",
     "metadata": {},
     "outputs": []
    },
    {
     "cell_type": "code",
     "collapsed": false,
     "input": [
      "N = X/dx"
     ],
     "language": "python",
     "metadata": {},
     "outputs": []
    },
    {
     "cell_type": "code",
     "collapsed": false,
     "input": [
      "xs = np.linspace(0,X,N+1)"
     ],
     "language": "python",
     "metadata": {},
     "outputs": []
    },
    {
     "cell_type": "markdown",
     "metadata": {},
     "source": [
      "### Peturbations\n",
      "\n",
      "$$F_n = - \\bar{u} \\frac{\\partial}{\\partial x}\\left(e^{(x-x_n)^2 / l^2}\\right) $$\n",
      "\n",
      "Peturbations $F_n$ added at a random location $x_n$ at a rate $1.6 \\times 10^{-6} m^{-1}.s^{-1}$"
     ]
    },
    {
     "cell_type": "code",
     "collapsed": false,
     "input": [
      "def phi(x, H, h, Hc=Hc):\n",
      "    \"\"\"Modified geopotential.\"\"\"\n",
      "    z = H + h\n",
      "    phi = np.zeros_like(x)\n",
      "    phi[z < Hc] = (phi_c + h*H)[z < Hc]\n",
      "    phi[z >= Hc] = (g*z)[z >= Hc]\n",
      "    return phi"
     ],
     "language": "python",
     "metadata": {},
     "outputs": []
    },
    {
     "cell_type": "code",
     "collapsed": false,
     "input": [
      "H = np.ones_like(xs) * H0 # flat land\n",
      "h = np.zeros_like(xs)\n",
      "phi(xs, H, h)"
     ],
     "language": "python",
     "metadata": {},
     "outputs": []
    },
    {
     "cell_type": "code",
     "collapsed": false,
     "input": [
      "# A matrix for simple calculation of u' and u'' using central difference\n",
      "\n",
      "def Ux(us, dx):\n",
      "    n = len(us)\n",
      "    ux = np.zeros((n,n))\n",
      "    i,j = np.indices((n,n))\n",
      "    sigma = 1.0 / (2*dx)\n",
      "    ux[i == j-1] = sigma  # sub diagonals\n",
      "    ux[i == j+1] = -sigma\n",
      "    # deriv is zero on boundary\n",
      "    ux[0,0] = ux[0,1] = 0\n",
      "    ux[n-1,n-1] = ux[n-1,n-2] = 0\n",
      "    return np.dot(ux, us)\n",
      "\n",
      "def Uxx(us, dx):\n",
      "    n = len(us)\n",
      "    uxx = np.zeros((n,n))\n",
      "    i,j = np.indices((n,n))\n",
      "    sigma = 1.0 / (dx*dx)\n",
      "    uxx[i == j] = -2*sigma   # the diagonal\n",
      "    uxx[i == j-1] = +sigma  # sub diagonals\n",
      "    uxx[i == j+1] = +sigma\n",
      "    # deriv is zero on boundary\n",
      "    uxx[0,0] = uxx[0,1] = 0\n",
      "    uxx[n-1,n-1] = uxx[n-1,n-2] = 0\n",
      "    return np.dot(uxx, us)"
     ],
     "language": "python",
     "metadata": {},
     "outputs": []
    },
    {
     "cell_type": "code",
     "collapsed": false,
     "input": [
      "Uxx(np.array([1,2,3,4,5,6,7,8,9]), 1)"
     ],
     "language": "python",
     "metadata": {},
     "outputs": []
    },
    {
     "cell_type": "code",
     "collapsed": false,
     "input": [],
     "language": "python",
     "metadata": {},
     "outputs": []
    },
    {
     "cell_type": "code",
     "collapsed": false,
     "input": [
      "# system of equations\n",
      "\n",
      "#u0 = u = np.exp(-(xs - 20000)**2 / l**2)\n",
      "u0 = u = np.zeros_like(xs)\n",
      "r0 = r = np.zeros_like(xs)\n",
      "h0 = h = np.ones_like(xs)*H0\n",
      "H = np.zeros_like(xs)  # flat land\n",
      "\n",
      "def Fn(x, u, r, h, xn=35):\n",
      "    return ubar*Ux(np.exp(-(x-x[xn])**2 / l**2), dx)\n",
      "\n",
      "\n",
      "\n",
      "# differential equations\n",
      "def ut(x, u, r, h, t):\n",
      "#    if (t%10) == 0:\n",
      "    if t == 2:\n",
      "        F=Fn(x, u, r, h, xn=50)#xn=np.random.randint(10,90))\n",
      "    else:\n",
      "        F=0\n",
      "    return -u*Ux(u, dx) - Ux(phi(x,H,h) + r, dx) + K*Uxx(u, dx) + F\n",
      "    \n",
      "def rt(x, u, r, h, t):\n",
      "    z = H+h\n",
      "    ux = Ux(u, dx)\n",
      "    beta_adjust = beta * ux\n",
      "    beta_adjust[z <= Hr] = 0\n",
      "    return -u*Ux(r, dx) + Kr*Uxx(r, dx) - alpha * r - beta_adjust\n",
      "\n",
      "def ht(x, u, r, h, t):\n",
      "    return -Ux(u*h, dx) #+ K * Uxx(h, dx)\n",
      "\n",
      "fig, ax = plt.subplots(3)\n",
      "fig.set_size_inches(12,18)\n",
      "for i,q in enumerate(['u', 'h', 'r']):\n",
      "    ax[i].set_xlabel('x')\n",
      "    ax[i].set_ylabel(q)\n",
      "\n",
      "ax[0].plot(xs, u)\n",
      "ax[1].plot(xs, H+h)\n",
      "ax[2].plot(xs, r)\n",
      "\n",
      "ax[1].plot(xs, np.ones_like(xs)*Hc, '--')\n",
      "ax[1].plot(xs, np.ones_like(xs)*Hr, '--')\n",
      "\n",
      "t = 0\n",
      "for i in range(10):\n",
      "    t = t+1\n",
      "    h = h + dt*ht(xs, u, r, h, t)\n",
      "    r = r + dt*rt(xs, u, r, h, t)\n",
      "    u = u + dt*ut(xs, u, r, h, t)\n",
      "    if (i % 2) == 0:\n",
      "        ax[0].plot(xs, u)\n",
      "        ax[1].plot(xs, H+h)\n",
      "        ax[2].plot(xs, r)\n",
      "        \n",
      "\n"
     ],
     "language": "python",
     "metadata": {},
     "outputs": []
    },
    {
     "cell_type": "code",
     "collapsed": false,
     "input": [
      "Hr"
     ],
     "language": "python",
     "metadata": {},
     "outputs": []
    },
    {
     "cell_type": "code",
     "collapsed": false,
     "input": [],
     "language": "python",
     "metadata": {},
     "outputs": []
    },
    {
     "cell_type": "code",
     "collapsed": false,
     "input": [],
     "language": "python",
     "metadata": {},
     "outputs": []
    },
    {
     "cell_type": "code",
     "collapsed": false,
     "input": [],
     "language": "python",
     "metadata": {},
     "outputs": []
    },
    {
     "cell_type": "code",
     "collapsed": false,
     "input": [],
     "language": "python",
     "metadata": {},
     "outputs": []
    },
    {
     "cell_type": "code",
     "collapsed": false,
     "input": [
      "plt.plot(ht(xs,u,r,h,t))"
     ],
     "language": "python",
     "metadata": {},
     "outputs": []
    },
    {
     "cell_type": "code",
     "collapsed": false,
     "input": [
      "# Use Euler's method in time\n",
      "\n",
      "def euler(f, x, t, h):\n",
      "    return x + h*f(x,t)\n",
      "\n"
     ],
     "language": "python",
     "metadata": {},
     "outputs": []
    },
    {
     "cell_type": "code",
     "collapsed": false,
     "input": [
      "for i in range(1000):\n",
      "    u = euler(f, u, _, dt)\n",
      "    plt.plot(xs, u)"
     ],
     "language": "python",
     "metadata": {},
     "outputs": []
    },
    {
     "cell_type": "code",
     "collapsed": false,
     "input": [
      "plt.plot(xs, u0)"
     ],
     "language": "python",
     "metadata": {},
     "outputs": []
    },
    {
     "cell_type": "code",
     "collapsed": false,
     "input": [
      "phi(xs)"
     ],
     "language": "python",
     "metadata": {},
     "outputs": []
    },
    {
     "cell_type": "code",
     "collapsed": false,
     "input": [],
     "language": "python",
     "metadata": {},
     "outputs": []
    },
    {
     "cell_type": "code",
     "collapsed": false,
     "input": [
      "# try a simple integration of the heat equation\n",
      "# u_t = u_xx\n",
      "\n",
      "xs = np.linspace(-10,10,101)\n",
      "dx = 20.0 / 100\n",
      "dt = 0.01\n",
      "u0 = u = np.exp(-xs**2)\n",
      "\n",
      "def f(x,t):\n",
      "    uxx = Uxx(x, dx)\n",
      "    uxx[0] = 0\n",
      "    uxx[-1] = 0\n",
      "    return uxx\n",
      "\n",
      "plt.plot(xs, u0)"
     ],
     "language": "python",
     "metadata": {},
     "outputs": []
    },
    {
     "cell_type": "code",
     "collapsed": false,
     "input": [],
     "language": "python",
     "metadata": {},
     "outputs": []
    },
    {
     "cell_type": "code",
     "collapsed": false,
     "input": [
      "debug"
     ],
     "language": "python",
     "metadata": {},
     "outputs": []
    }
   ],
   "metadata": {}
  }
 ]
}