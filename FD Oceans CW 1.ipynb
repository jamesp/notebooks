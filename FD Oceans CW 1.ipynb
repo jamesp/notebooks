{
 "metadata": {
  "name": "",
  "signature": "sha256:a5423fd7f1c627e0a6fc9c68194c85a794bea254615663f6f8739357435a2f45"
 },
 "nbformat": 3,
 "nbformat_minor": 0,
 "worksheets": [
  {
   "cells": [
    {
     "cell_type": "code",
     "collapsed": false,
     "input": [
      "%matplotlib inline\n",
      "from sympy import *\n",
      "from sympy.abc import a, b, c, t, x, y, z, sigma, omega, phi, psi, zeta, theta\n",
      "init_printing()"
     ],
     "language": "python",
     "metadata": {},
     "outputs": [],
     "prompt_number": 2
    },
    {
     "cell_type": "code",
     "collapsed": false,
     "input": [
      "# pressure profile in an isothermal atmosphere\n",
      "g, p, p0, rho, rho0, T, T0, R = symbols(r'g p p_0 \\rho \\rho_0 T T_0 R')\n",
      "pressure=Eq(p, p0*exp(-g/(R*T0)*z))\n",
      "solve(pressure, z)"
     ],
     "language": "python",
     "metadata": {},
     "outputs": [
      {
       "latex": [
        "$$\\left [ \\frac{R T_{0}}{g} \\log{\\left (\\frac{p_{0}}{p} \\right )}\\right ]$$"
       ],
       "metadata": {},
       "output_type": "pyout",
       "png": "[encoded data removed]",
       "prompt_number": 3,
       "text": [
        "\u23a1        \u239bp\u2080\u239e\u23a4\n",
        "\u23a2R\u22c5T\u2080\u22c5log\u239c\u2500\u2500\u239f\u23a5\n",
        "\u23a2        \u239dp \u23a0\u23a5\n",
        "\u23a2\u2500\u2500\u2500\u2500\u2500\u2500\u2500\u2500\u2500\u2500\u2500\u2500\u23a5\n",
        "\u23a3     g      \u23a6"
       ]
      }
     ],
     "prompt_number": 3
    },
    {
     "cell_type": "code",
     "collapsed": false,
     "input": [
      "gas_law = Eq(rho, p*R*T)\n",
      "gas_law"
     ],
     "language": "python",
     "metadata": {},
     "outputs": [
      {
       "latex": [
        "$$\\rho = R T p$$"
       ],
       "metadata": {},
       "output_type": "pyout",
       "png": "[encoded data removed]",
       "prompt_number": 4,
       "text": [
        "\\rho = R\u22c5T\u22c5p"
       ]
      }
     ],
     "prompt_number": 4
    },
    {
     "cell_type": "code",
     "collapsed": false,
     "input": [
      "integrate(1 / (-a*z + b), z)"
     ],
     "language": "python",
     "metadata": {},
     "outputs": [
      {
       "latex": [
        "$$- \\frac{1}{a} \\log{\\left (a z - b \\right )}$$"
       ],
       "metadata": {},
       "output_type": "pyout",
       "png": "[encoded data removed]",
       "prompt_number": 5,
       "text": [
        "-log(a\u22c5z - b) \n",
        "\u2500\u2500\u2500\u2500\u2500\u2500\u2500\u2500\u2500\u2500\u2500\u2500\u2500\u2500\n",
        "      a       "
       ]
      }
     ],
     "prompt_number": 5
    },
    {
     "cell_type": "code",
     "collapsed": false,
     "input": [
      "# z as fn of p when Lapse Rate dT/dz = - \\Gamma\n",
      "gamma = symbols(r'\\Gamma')\n",
      "Eq(z, T0/gamma * (1-(p0/p)**(-R*gamma/g)))"
     ],
     "language": "python",
     "metadata": {},
     "outputs": [
      {
       "latex": [
        "$$z = \\frac{T_{0}}{\\Gamma} \\left(1 - \\left(\\frac{p_{0}}{p}\\right)^{- \\frac{R \\Gamma}{g}}\\right)$$"
       ],
       "metadata": {},
       "output_type": "pyout",
       "png": "[encoded data removed]",
       "prompt_number": 6,
       "text": [
        "       \u239b        -R\u22c5\\Gamma \u239e\n",
        "       \u239c        \u2500\u2500\u2500\u2500\u2500\u2500\u2500\u2500\u2500\u2500\u239f\n",
        "       \u239c            g     \u239f\n",
        "       \u239c    \u239bp\u2080\u239e          \u239f\n",
        "    T\u2080\u22c5\u239c1 - \u239c\u2500\u2500\u239f          \u239f\n",
        "       \u239d    \u239dp \u23a0          \u23a0\n",
        "z = \u2500\u2500\u2500\u2500\u2500\u2500\u2500\u2500\u2500\u2500\u2500\u2500\u2500\u2500\u2500\u2500\u2500\u2500\u2500\u2500\u2500\u2500\u2500\n",
        "             \\Gamma        "
       ]
      }
     ],
     "prompt_number": 6
    },
    {
     "cell_type": "code",
     "collapsed": false,
     "input": [
      "# in the limit when \\Gamma goes to zero (isothermal)\n",
      "limit(T0/gamma * (1-(p0/p)**(-R*gamma/g)), gamma, 0)"
     ],
     "language": "python",
     "metadata": {},
     "outputs": [
      {
       "latex": [
        "$$\\frac{R T_{0}}{g} \\log{\\left (\\frac{p_{0}}{p} \\right )}$$"
       ],
       "metadata": {},
       "output_type": "pyout",
       "png": "[encoded data removed]",
       "prompt_number": 7,
       "text": [
        "        \u239bp\u2080\u239e\n",
        "R\u22c5T\u2080\u22c5log\u239c\u2500\u2500\u239f\n",
        "        \u239dp \u23a0\n",
        "\u2500\u2500\u2500\u2500\u2500\u2500\u2500\u2500\u2500\u2500\u2500\u2500\n",
        "     g      "
       ]
      }
     ],
     "prompt_number": 7
    },
    {
     "cell_type": "code",
     "collapsed": false,
     "input": [
      "gas_law.subs"
     ],
     "language": "python",
     "metadata": {},
     "outputs": [
      {
       "metadata": {},
       "output_type": "pyout",
       "prompt_number": 8,
       "text": [
        "<bound method Equality.subs of \\rho == R*T*p>"
       ]
      }
     ],
     "prompt_number": 8
    },
    {
     "cell_type": "markdown",
     "metadata": {},
     "source": [
      "### Question 5\n",
      "\n"
     ]
    },
    {
     "cell_type": "code",
     "collapsed": false,
     "input": [
      "f, Omega = symbols(r'f \\Omega')\n",
      "coriolis = Eq(f, 2 * Omega * sin(theta))\n",
      "coriolis"
     ],
     "language": "python",
     "metadata": {},
     "outputs": [
      {
       "latex": [
        "$$f = 2 \\Omega \\sin{\\left (\\theta \\right )}$$"
       ],
       "metadata": {},
       "output_type": "pyout",
       "png": "[encoded data removed]",
       "prompt_number": 32,
       "text": [
        "f = 2\u22c5\\Omega\u22c5sin(\u03b8)"
       ]
      }
     ],
     "prompt_number": 32
    },
    {
     "cell_type": "code",
     "collapsed": false,
     "input": [
      "f60 = solve(coriolis.subs({Omega: 7.2921e-5, theta: pi*60/180}).evalf(10))[0]\n",
      "f60"
     ],
     "language": "python",
     "metadata": {},
     "outputs": [
      {
       "latex": [
        "$$-3.1575719225 \\cdot 10^{-5}$$"
       ],
       "metadata": {},
       "output_type": "pyout",
       "png": "[encoded data removed]",
       "prompt_number": 60,
       "text": [
        "-3.15757192250000e-5"
       ]
      }
     ],
     "prompt_number": 60
    },
    {
     "cell_type": "code",
     "collapsed": false,
     "input": [
      "xi_p60 = f60*-.25\n",
      "xi_p60"
     ],
     "language": "python",
     "metadata": {},
     "outputs": [
      {
       "latex": [
        "$$-3.1575719225 \\cdot 10^{-5}$$"
       ],
       "metadata": {},
       "output_type": "pyout",
       "png": "[encoded data removed]",
       "prompt_number": 63,
       "text": [
        "-3.15757192250000e-5"
       ]
      }
     ],
     "prompt_number": 63
    },
    {
     "cell_type": "code",
     "collapsed": false,
     "input": [
      "f30 = solve(coriolis.subs({Omega: 7.2921e-5, theta: pi*30/180}).evalf(10))[0]\n",
      "f30"
     ],
     "language": "python",
     "metadata": {},
     "outputs": [
      {
       "latex": [
        "$$7.2921 \\cdot 10^{-5}$$"
       ],
       "metadata": {},
       "output_type": "pyout",
       "png": "[encoded data removed]",
       "prompt_number": 62,
       "text": [
        "7.29210000000000e-5"
       ]
      }
     ],
     "prompt_number": 62
    },
    {
     "cell_type": "code",
     "collapsed": false,
     "input": [
      "xi_p30 = f60-f30+xi_p60\n",
      "xi_p30"
     ],
     "language": "python",
     "metadata": {},
     "outputs": [
      {
       "latex": [
        "$$2.1806157675 \\cdot 10^{-5}$$"
       ],
       "metadata": {},
       "output_type": "pyout",
       "png": "[encoded data removed]",
       "prompt_number": 64,
       "text": [
        "2.18061576750000e-5"
       ]
      }
     ],
     "prompt_number": 64
    },
    {
     "cell_type": "code",
     "collapsed": false,
     "input": [],
     "language": "python",
     "metadata": {},
     "outputs": []
    }
   ],
   "metadata": {}
  }
 ]
}