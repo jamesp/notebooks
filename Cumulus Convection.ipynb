{
 "metadata": {
  "name": "",
  "signature": "sha256:a8446c77795396f356fc4e09a630bd26bd4fc4339316409903cf46ea6fc2b374"
 },
 "nbformat": 3,
 "nbformat_minor": 0,
 "worksheets": [
  {
   "cells": [
    {
     "cell_type": "markdown",
     "metadata": {},
     "source": [
      "# Cumulus Convection\n",
      "\n",
      "**Paper:** A simple dynamical model of cumulus convection for data assimilation research\n",
      "\n",
      "**Authors:** M. W\u00fcrsch & G. Craig\n",
      "\n",
      "## Shallow Water Equations \n",
      "\n",
      "$$u_t + uu_x + \\phi_x  = Ku_{xx}$$\n",
      "$$h_t + (uh)_x = Kh_{xx}$$\n",
      "\n",
      "$\\phi$ is the geopotential. \n",
      "In the basic case $\\phi = g(h + H)$ with $h$ the fluid height and $H$ the height of the topology."
     ]
    },
    {
     "cell_type": "code",
     "collapsed": false,
     "input": [
      "%matplotlib inline\n",
      "\n",
      "import matplotlib.pyplot as plt\n",
      "import numpy as np\n",
      "\n",
      "import scipy.special\n",
      "binom = scipy.special.binom"
     ],
     "language": "python",
     "metadata": {},
     "outputs": []
    },
    {
     "cell_type": "markdown",
     "metadata": {},
     "source": [
      "### Central difference method for nth order derivative\n",
      "From http://en.wikipedia.org/wiki/Finite_difference:\n",
      "$$\\delta^n_h[f](x) = \n",
      "\\sum_{i = 0}^{n} (-1)^i \\binom{n}{i} f\\left(x + \\left(\\frac{n}{2} - i\\right) h\\right).$$"
     ]
    },
    {
     "cell_type": "code",
     "collapsed": false,
     "input": [
      "def central_difference(n):\n",
      "    \"\"\"Returns the nth-order central difference method.\"\"\"\n",
      "    def c_diff(f,x,dx=0.01):\n",
      "        return sum((-1)**i * binom(n,i)*f(x + ((n / 2.0) - i) * dx) for i in range(0,n+1)) / dx**n\n",
      "    return c_diff"
     ],
     "language": "python",
     "metadata": {},
     "outputs": []
    },
    {
     "cell_type": "code",
     "collapsed": false,
     "input": [
      "cd1 = central_difference(1)\n",
      "cd2 = central_difference(2)"
     ],
     "language": "python",
     "metadata": {},
     "outputs": []
    },
    {
     "cell_type": "markdown",
     "metadata": {},
     "source": [
      "### Geopotential\n",
      "\n"
     ]
    },
    {
     "cell_type": "code",
     "collapsed": false,
     "input": [
      "H0 = 90.0\n",
      "Hc = 90.02\n",
      "g = 9.8\n",
      "phic = 899.77\n",
      "\n",
      "def H(pos):\n",
      "    return H0 # flat land\n",
      "\n",
      "def phi(pos, Hc=Hc):\n",
      "    \"\"\"Modified geopotential.\"\"\"\n",
      "    x,y,z = pos\n",
      "    if z < Hc:\n",
      "        return phic + g*H(pos)\n",
      "    else:\n",
      "        return g*(H(pos) + h(pos))"
     ],
     "language": "python",
     "metadata": {},
     "outputs": []
    },
    {
     "cell_type": "markdown",
     "metadata": {},
     "source": [
      "### Peturbations\n",
      "\n",
      "$$F_n = - \\bar{u} \\frac{\\partial}{\\partial x}\\left(e^{(x-x_n)^2 / l^2}\\right) $$\n",
      "\n",
      "Peturbations $F_n$ added at a random location $x_n$ at a rate $1.6 \\times 10^{-6} m^{-1}.s^{-1}$"
     ]
    },
    {
     "cell_type": "code",
     "collapsed": false,
     "input": [
      "L = 2000\n",
      "\n",
      "def peturb_at(xn, ubar, l=L):\n",
      "    def peturbation(x):\n",
      "        return ubar * np.exp(-(x - xn)**2 / float(l))\n",
      "    return peturbation"
     ],
     "language": "python",
     "metadata": {},
     "outputs": []
    },
    {
     "cell_type": "code",
     "collapsed": false,
     "input": [
      "# constants\n",
      "K = 25000\n",
      "dx = 500\n",
      "dt = 5\n"
     ],
     "language": "python",
     "metadata": {},
     "outputs": []
    },
    {
     "cell_type": "code",
     "collapsed": false,
     "input": [
      "np.array([1,2,3])**2"
     ],
     "language": "python",
     "metadata": {},
     "outputs": []
    },
    {
     "cell_type": "code",
     "collapsed": false,
     "input": [
      "plt.plot(np.linspace(0,10,101),peturb_at(4,.1,3)(np.linspace(0,10,101)))"
     ],
     "language": "python",
     "metadata": {},
     "outputs": []
    },
    {
     "cell_type": "code",
     "collapsed": false,
     "input": [
      "np.linspace(0,10, 101)"
     ],
     "language": "python",
     "metadata": {},
     "outputs": []
    },
    {
     "cell_type": "code",
     "collapsed": false,
     "input": [],
     "language": "python",
     "metadata": {},
     "outputs": []
    }
   ],
   "metadata": {}
  }
 ]
}