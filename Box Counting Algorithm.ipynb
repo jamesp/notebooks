{
 "metadata": {
  "name": "",
  "signature": "sha256:93229492661423fb7e8d6b9cdfc8b414ab1dc71311f2c8e353742cff3dba016d"
 },
 "nbformat": 3,
 "nbformat_minor": 0,
 "worksheets": [
  {
   "cells": [
    {
     "cell_type": "code",
     "collapsed": false,
     "input": [
      "%matplotlib inline\n",
      "import numpy as np"
     ],
     "language": "python",
     "metadata": {},
     "outputs": [],
     "prompt_number": 1
    },
    {
     "cell_type": "code",
     "collapsed": false,
     "input": [
      "def best_fit(xs, ys):\n",
      "    \"\"\"Using the method of least squares, return the gradient\n",
      "    and y-intercept of the line of best fit through xs and ys.\"\"\"\n",
      "    A = np.array([xs, np.ones(len(xs))])\n",
      "    return np.linalg.lstsq(A.T,ys)[0]"
     ],
     "language": "python",
     "metadata": {},
     "outputs": [],
     "prompt_number": 2
    },
    {
     "cell_type": "code",
     "collapsed": false,
     "input": [
      "def in_circle(x,y, radius=1.0,centre=(0.0,0.0)):\n",
      "    x0,y0=centre\n",
      "    return ((x-x0)**2 + (y-y0)**2) <= radius**2\n",
      "\n",
      "assert in_circle(1,1) == False\n",
      "assert in_circle(0.0, 1) == True\n",
      "assert in_circle(0.5, 0.5) == True"
     ],
     "language": "python",
     "metadata": {},
     "outputs": [],
     "prompt_number": 3
    },
    {
     "cell_type": "code",
     "collapsed": false,
     "input": [
      "epsilon = np.finfo(np.float64).eps\n",
      "\n",
      "data = []\n",
      "for n_sections in [1,10,1000]:\n",
      "    delta = 1.0 / n_sections\n",
      "    X,Y = np.meshgrid(np.arange(-1,1,delta), np.arange(-1,1,delta))\n",
      "    coverage = in_circle(X,Y, radius=1.0, centre=(0.0,0.0))\n",
      "    N = sum(coverage)\n",
      "    data.append((n_sections, N))\n",
      "\n",
      "plt.plot(np.log(data[0]), np.log(data[1]))"
     ],
     "language": "python",
     "metadata": {},
     "outputs": []
    },
    {
     "cell_type": "code",
     "collapsed": false,
     "input": [
      "data = np.array(data)\n",
      "logdata = np.log(data[0:10])\n",
      "\n",
      "m, c  = best_fit(logdata[:,0], logdata[:,1])\n",
      "line = m*logdata[:,0]+c\n",
      "plt.plot(logdata[:,0], line, 'r-', logdata[:,0], logdata[:,1], 'o')\n",
      "plt.xlabel('$- \\log | \\epsilon |$')\n",
      "plt.ylabel('$ \\log | N(\\epsilon) |$')"
     ],
     "language": "python",
     "metadata": {},
     "outputs": []
    },
    {
     "cell_type": "code",
     "collapsed": false,
     "input": [
      "delta=0.01\n",
      "X,Y = np.meshgrid(np.arange(-2,2,delta), np.arange(-2,2,delta))\n",
      "plt.imshow(in_circle(X,Y))"
     ],
     "language": "python",
     "metadata": {},
     "outputs": [
      {
       "metadata": {},
       "output_type": "pyout",
       "prompt_number": 22,
       "text": [
        "<matplotlib.image.AxesImage at 0x7f9a00c35ad0>"
       ]
      },
      {
       "metadata": {},
       "output_type": "display_data",
       "png": "[encoded data removed]",
       "text": [
        "<matplotlib.figure.Figure at 0x7f9a00d61ed0>"
       ]
      }
     ],
     "prompt_number": 22
    },
    {
     "cell_type": "code",
     "collapsed": false,
     "input": [],
     "language": "python",
     "metadata": {},
     "outputs": []
    }
   ],
   "metadata": {}
  }
 ]
}