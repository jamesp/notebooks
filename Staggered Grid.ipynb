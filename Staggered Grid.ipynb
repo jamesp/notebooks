{
 "metadata": {
  "name": "",
  "signature": "sha256:1f003b1de5061006856a807d71e8833914ede296ba0eb1d5aa8ec980b2a54608"
 },
 "nbformat": 3,
 "nbformat_minor": 0,
 "worksheets": [
  {
   "cells": [
    {
     "cell_type": "code",
     "collapsed": false,
     "input": [
      "%matplotlib inline\n",
      "\n",
      "import numpy as np\n",
      "import matplotlib.pyplot as plt\n",
      "\n",
      "numpy.set_printoptions(precision=3, suppress=True)"
     ],
     "language": "python",
     "metadata": {},
     "outputs": [],
     "prompt_number": 1
    },
    {
     "cell_type": "code",
     "collapsed": false,
     "input": [
      "# PARAMETERS\n",
      "X = 50000.0\n",
      "dx = 500.0\n",
      "dt = 5.0\n",
      "\n",
      "H0 = 90.0\n",
      "Hc = 90.04\n",
      "Hr = 90.4\n",
      "\n",
      "g = 9.8\n",
      "\n",
      "phi_c = 899.77\n",
      "beta = 3.0\n",
      "alpha = 2.5e-4\n",
      "\n",
      "ubar = 0.005\n",
      "l = 2000.0\n",
      "\n",
      "F_rate = 1.6e-6\n",
      "\n",
      "K = 25000.0\n",
      "Kr = 200.0\n",
      "\n",
      "epsilon = 10e-10"
     ],
     "language": "python",
     "metadata": {},
     "outputs": [],
     "prompt_number": 2
    },
    {
     "cell_type": "code",
     "collapsed": false,
     "input": [
      "def plot_charts(x, u, h, r, Hc=Hc, Hr=Hr):\n",
      "    charts = []\n",
      "    fig = plt.figure(figsize=(16,4))\n",
      "    plt.subplot(131)\n",
      "    charts.append(plt.plot(x,u)[0])\n",
      "    plt.ylabel('u')\n",
      "    plt.subplot(132)\n",
      "    plt.plot(x, np.ones_like(x)*Hc, '--')\n",
      "    plt.plot(x, np.ones_like(x)*Hr, '--')\n",
      "    charts.append(plt.plot(x,h,'r')[0])\n",
      "    plt.ylim((89.5,92))\n",
      "    plt.ylabel('h')\n",
      "    plt.subplot(133)\n",
      "    charts.append(plt.plot(x,r,'g')[0])\n",
      "    plt.ylabel('r')\n",
      "    return fig, charts"
     ],
     "language": "python",
     "metadata": {},
     "outputs": [],
     "prompt_number": 3
    },
    {
     "cell_type": "code",
     "collapsed": false,
     "input": [
      "def reset_simulation():\n",
      "    global N,x,u,r,h,H\n",
      "    N = X/dx\n",
      "    x = np.linspace(0, X-dx, N)\n",
      "    u = np.zeros_like(x)\n",
      "    r = np.zeros_like(x)\n",
      "\n",
      "    H0 = 90.0\n",
      "    H = np.zeros_like(x)\n",
      "    h = np.ones_like(x)*H0\n",
      "    #h[50:53] = 90.2\n",
      "\n",
      "reset_simulation()\n",
      "plot_charts(x,u,h,r)"
     ],
     "language": "python",
     "metadata": {},
     "outputs": [
      {
       "metadata": {},
       "output_type": "pyout",
       "prompt_number": 4,
       "text": [
        "(<matplotlib.figure.Figure at 0x7f441e81e1d0>,\n",
        " [<matplotlib.lines.Line2D at 0x7f441e7bc390>,\n",
        "  <matplotlib.lines.Line2D at 0x7f441e70a550>,\n",
        "  <matplotlib.lines.Line2D at 0x7f441e6487d0>])"
       ]
      },
      {
       "metadata": {},
       "output_type": "display_data",
       "png": "[encoded data removed]",
       "text": [
        "<matplotlib.figure.Figure at 0x7f441e81e1d0>"
       ]
      }
     ],
     "prompt_number": 4
    },
    {
     "cell_type": "code",
     "collapsed": false,
     "input": [
      "def tridiag(n, d, u, l):\n",
      "    \"\"\"Create an nxn tridiagonal matrix with `d` along diagonal, `u` on\n",
      "    first upper diag and `l` on first lower\"\"\"\n",
      "    M = np.zeros((n,n))\n",
      "    i,j = np.indices((n,n))\n",
      "    M[i == j] = d\n",
      "    M[i == j-1] = u\n",
      "    M[i == j+1] = l\n",
      "    return M\n",
      "\n",
      "H_AVG = tridiag(N, 1, 0, 1)*0.5\n",
      "H_AVG[0,-1] = 0.5\n",
      "def half_step(f):\n",
      "    \"\"\"Return a copy of an array half stepped to the right.\"\"\"\n",
      "    return np.dot(f, H_AVG)\n",
      "\n",
      "half_step(h)"
     ],
     "language": "python",
     "metadata": {},
     "outputs": [
      {
       "metadata": {},
       "output_type": "pyout",
       "prompt_number": 5,
       "text": [
        "array([ 90.,  90.,  90.,  90.,  90.,  90.,  90.,  90.,  90.,  90.,  90.,\n",
        "        90.,  90.,  90.,  90.,  90.,  90.,  90.,  90.,  90.,  90.,  90.,\n",
        "        90.,  90.,  90.,  90.,  90.,  90.,  90.,  90.,  90.,  90.,  90.,\n",
        "        90.,  90.,  90.,  90.,  90.,  90.,  90.,  90.,  90.,  90.,  90.,\n",
        "        90.,  90.,  90.,  90.,  90.,  90.,  90.,  90.,  90.,  90.,  90.,\n",
        "        90.,  90.,  90.,  90.,  90.,  90.,  90.,  90.,  90.,  90.,  90.,\n",
        "        90.,  90.,  90.,  90.,  90.,  90.,  90.,  90.,  90.,  90.,  90.,\n",
        "        90.,  90.,  90.,  90.,  90.,  90.,  90.,  90.,  90.,  90.,  90.,\n",
        "        90.,  90.,  90.,  90.,  90.,  90.,  90.,  90.,  90.,  90.,  90.,\n",
        "        90.])"
       ]
      }
     ],
     "prompt_number": 5
    },
    {
     "cell_type": "markdown",
     "metadata": {},
     "source": [
      "### Staggered Grid Shallow water equations\n",
      "\n",
      "Using a one-dimensional spatial grid.\n",
      "\n",
      "* Fluid height $h$ and geopotential $\\phi$ are represented at the centre of grid points $i$.\n",
      "* Fluid velocity $u$ is represented at the edge of grid points $i\\pm 1/2$\n",
      "\n",
      "#### Modified Geopotential\n",
      "\n",
      "\\begin{align}\n",
      "\\phi &= \\phi_c + g*H, &\\quad (H+h) > H_c \\\\\n",
      "\\phi &= g(H+h), &\\quad \\text{otherwise}\n",
      "\\end{align}\n",
      "\n"
     ]
    },
    {
     "cell_type": "code",
     "collapsed": false,
     "input": [
      "def phi(H, h, Hc=Hc):\n",
      "    \"\"\"Modified geopotential.\"\"\"\n",
      "    z = H + h\n",
      "    phi = np.zeros_like(h)\n",
      "    phi[z > Hc] = (phi_c + g*H)[z > Hc]\n",
      "    phi[z <= Hc] = (g*z)[z <= Hc]\n",
      "    return phi\n",
      "\n",
      "print phi(np.array([0,0,0,0]), np.array([90, 90.02, 90.4, 90.6]))"
     ],
     "language": "python",
     "metadata": {},
     "outputs": [
      {
       "output_type": "stream",
       "stream": "stdout",
       "text": [
        "[ 882.     882.196  899.77   899.77 ]\n"
       ]
      }
     ],
     "prompt_number": 6
    },
    {
     "cell_type": "code",
     "collapsed": false,
     "input": [
      "# first spatial derivative: central difference\n",
      "\n",
      "DFDX = tridiag(N, 0, -1, 1) / (2*dx)\n",
      "# periodic boundary conditions\n",
      "DFDX[0,-1] = 1 / (2*dx)\n",
      "DFDX[-1,0] = -1 / (2*dx)\n",
      "\n",
      "def Fx(f):\n",
      "    return np.dot(f, DFDX)\n",
      "\n",
      "DDYDXDX = tridiag(N, -2, 1, 1) / (dx**2)\n",
      "# periodic boundary conditions\n",
      "DDYDXDX[0, -1] = 1 / (dx**2)\n",
      "DDYDXDX[-1, 0] = 1 / (dx**2)\n",
      "\n",
      "def Fxx(f):\n",
      "    return np.dot(f, DDYDXDX)\n",
      "\n"
     ],
     "language": "python",
     "metadata": {},
     "outputs": [],
     "prompt_number": 7
    },
    {
     "cell_type": "code",
     "collapsed": false,
     "input": [
      "v = exp(-((x-5000)/dx)**2)\n",
      "plot(x, v)"
     ],
     "language": "python",
     "metadata": {},
     "outputs": [
      {
       "metadata": {},
       "output_type": "pyout",
       "prompt_number": 8,
       "text": [
        "[<matplotlib.lines.Line2D at 0x7f441e5d7650>]"
       ]
      },
      {
       "metadata": {},
       "output_type": "display_data",
       "png": "[encoded data removed]",
       "text": [
        "<matplotlib.figure.Figure at 0x7f441e8094d0>"
       ]
      }
     ],
     "prompt_number": 8
    },
    {
     "cell_type": "code",
     "collapsed": false,
     "input": [
      "plot(x, Fx(v))"
     ],
     "language": "python",
     "metadata": {},
     "outputs": [
      {
       "metadata": {},
       "output_type": "pyout",
       "prompt_number": 9,
       "text": [
        "[<matplotlib.lines.Line2D at 0x7f441e507910>]"
       ]
      },
      {
       "metadata": {},
       "output_type": "display_data",
       "png": "[encoded data removed]",
       "text": [
        "<matplotlib.figure.Figure at 0x7f441e7d5890>"
       ]
      }
     ],
     "prompt_number": 9
    },
    {
     "cell_type": "code",
     "collapsed": false,
     "input": [
      "phis = half_step(phi(H, h))\n",
      "phis"
     ],
     "language": "python",
     "metadata": {},
     "outputs": [
      {
       "metadata": {},
       "output_type": "pyout",
       "prompt_number": 10,
       "text": [
        "array([ 882.,  882.,  882.,  882.,  882.,  882.,  882.,  882.,  882.,\n",
        "        882.,  882.,  882.,  882.,  882.,  882.,  882.,  882.,  882.,\n",
        "        882.,  882.,  882.,  882.,  882.,  882.,  882.,  882.,  882.,\n",
        "        882.,  882.,  882.,  882.,  882.,  882.,  882.,  882.,  882.,\n",
        "        882.,  882.,  882.,  882.,  882.,  882.,  882.,  882.,  882.,\n",
        "        882.,  882.,  882.,  882.,  882.,  882.,  882.,  882.,  882.,\n",
        "        882.,  882.,  882.,  882.,  882.,  882.,  882.,  882.,  882.,\n",
        "        882.,  882.,  882.,  882.,  882.,  882.,  882.,  882.,  882.,\n",
        "        882.,  882.,  882.,  882.,  882.,  882.,  882.,  882.,  882.,\n",
        "        882.,  882.,  882.,  882.,  882.,  882.,  882.,  882.,  882.,\n",
        "        882.,  882.,  882.,  882.,  882.,  882.,  882.,  882.,  882.,  882.])"
       ]
      }
     ],
     "prompt_number": 10
    },
    {
     "cell_type": "code",
     "collapsed": false,
     "input": [
      "def Fn(x, xn=35):\n",
      "    return ubar*np.exp(-(x-x[xn])**2 / l**2)\n",
      "\n",
      "def ut(u, h, r, H, dt=dt):\n",
      "    return u - dt * (u*Fx(u) + Fx(phi(h, H)) - K*Fxx(u))\n",
      "\n",
      "def ht(u, h, r, H, dt=dt):\n",
      "    return h - dt * (Fx(h*u) - K*Fxx(h))\n",
      "\n",
      "def rt(u, h, r, H, Kr=Kr, alpha=alpha, beta=beta, dt=dt):\n",
      "    z = H+h\n",
      "    ux = Fx(half_step(u))\n",
      "    beta_adjust = beta * ux\n",
      "    beta_adjust[z <= Hr] = 0\n",
      "    return r - dt*(u*Fx(r) + Kr*Fxx(r) - alpha * r - beta_adjust)\n",
      "\n",
      "u = u + Fn(x)\n",
      "plot_charts(x,u,h,r)"
     ],
     "language": "python",
     "metadata": {},
     "outputs": [
      {
       "metadata": {},
       "output_type": "pyout",
       "prompt_number": 11,
       "text": [
        "(<matplotlib.figure.Figure at 0x7f441e6f2550>,\n",
        " [<matplotlib.lines.Line2D at 0x7f441e24ab90>,\n",
        "  <matplotlib.lines.Line2D at 0x7f441e166250>,\n",
        "  <matplotlib.lines.Line2D at 0x7f441e0db0d0>])"
       ]
      },
      {
       "metadata": {},
       "output_type": "display_data",
       "png": "[encoded data removed]",
       "text": [
        "<matplotlib.figure.Figure at 0x7f441e6f2550>"
       ]
      }
     ],
     "prompt_number": 11
    },
    {
     "cell_type": "code",
     "collapsed": false,
     "input": [
      "for i in range(100):\n",
      "    u,h,r = ut(u,h,r,H), ht(u,h,r,H), rt(u,h,r,H)\n",
      "    \n",
      "def step(x,u,h,r,dt=dt):\n",
      "    return ut(u,h,r,H,dt), ht(u,h,r,H,dt), rt(u,h,r,H,dt)\n",
      "\n",
      "def progress(x, u, h, r, timespan, dt=dt):\n",
      "    steps = int(floor(timespan/dt))\n",
      "    for i in range(steps):\n",
      "        u,h,r = step(x,u,h,r,dt)\n",
      "    return u,h,r\n",
      "u,h,r = progress(x,u,h,r, 5.0*60)\n",
      "plot_charts(x,u,h,r)"
     ],
     "language": "python",
     "metadata": {},
     "outputs": [
      {
       "metadata": {},
       "output_type": "pyout",
       "prompt_number": 15,
       "text": [
        "(<matplotlib.figure.Figure at 0x7f441d71e4d0>,\n",
        " [<matplotlib.lines.Line2D at 0x7f441d6ce950>,\n",
        "  <matplotlib.lines.Line2D at 0x7f441d65ffd0>,\n",
        "  <matplotlib.lines.Line2D at 0x7f441d5cec90>])"
       ]
      },
      {
       "metadata": {},
       "output_type": "display_data",
       "png": "[encoded data removed]",
       "text": [
        "<matplotlib.figure.Figure at 0x7f441d71e4d0>"
       ]
      }
     ],
     "prompt_number": 15
    },
    {
     "cell_type": "code",
     "collapsed": false,
     "input": [
      "import imageio\n",
      "\n",
      "\n",
      "def gifify(frames):\n",
      "    id = ''.join([chr(x) for x in np.random.random_integers(65,90,12)])\n",
      "    xs = list(frames)\n",
      "    imageio.mimsave('tmp/%s.gif' % id, xs)\n",
      "    return Image(url='./tmp/%s.gif' % id)\n"
     ],
     "language": "python",
     "metadata": {},
     "outputs": [],
     "prompt_number": 13
    },
    {
     "cell_type": "code",
     "collapsed": false,
     "input": [
      "plt.plot(x,h)\n",
      "plt.ylim((90,90.0001))"
     ],
     "language": "python",
     "metadata": {},
     "outputs": [
      {
       "metadata": {},
       "output_type": "pyout",
       "prompt_number": 14,
       "text": [
        "(90, 90.0001)"
       ]
      },
      {
       "metadata": {},
       "output_type": "display_data",
       "png": "[encoded data removed]",
       "text": [
        "<matplotlib.figure.Figure at 0x7f441e5bc3d0>"
       ]
      }
     ],
     "prompt_number": 14
    },
    {
     "cell_type": "code",
     "collapsed": false,
     "input": [],
     "language": "python",
     "metadata": {},
     "outputs": [
      {
       "metadata": {},
       "output_type": "pyout",
       "prompt_number": 22,
       "text": [
        "array([ 0.225,  0.244,  0.264,  0.284,  0.303,  0.323,  0.343,  0.362,\n",
        "        0.38 ,  0.398,  0.414,  0.43 ,  0.443,  0.455,  0.464,  0.471,\n",
        "        0.476,  0.477,  0.476,  0.472,  0.464,  0.454,  0.439,  0.422,\n",
        "        0.401,  0.377,  0.349,  0.319,  0.285,  0.25 ,  0.212,  0.172,\n",
        "        0.13 ,  0.088,  0.044,  0.   , -0.044, -0.087, -0.13 , -0.172,\n",
        "       -0.212, -0.25 , -0.285, -0.319, -0.349, -0.376, -0.401, -0.422,\n",
        "       -0.439, -0.454, -0.464, -0.472, -0.476, -0.477, -0.476, -0.471,\n",
        "       -0.464, -0.455, -0.443, -0.43 , -0.415, -0.398, -0.381, -0.362,\n",
        "       -0.343, -0.323, -0.304, -0.284, -0.264, -0.244, -0.225, -0.206,\n",
        "       -0.188, -0.17 , -0.153, -0.137, -0.121, -0.106, -0.091, -0.077,\n",
        "       -0.063, -0.05 , -0.037, -0.025, -0.012, -0.   ,  0.012,  0.025,\n",
        "        0.037,  0.05 ,  0.063,  0.077,  0.091,  0.106,  0.121,  0.137,\n",
        "        0.153,  0.17 ,  0.188,  0.206])"
       ]
      }
     ],
     "prompt_number": 22
    },
    {
     "cell_type": "code",
     "collapsed": false,
     "input": [
      "debug"
     ],
     "language": "python",
     "metadata": {},
     "outputs": []
    },
    {
     "cell_type": "code",
     "collapsed": false,
     "input": [
      "from moviepy.editor import ipython_display, VideoClip\n",
      "from moviepy.video.io.bindings import mplfig_to_npimage\n",
      "\n",
      "\n",
      "    \n",
      "def make_video(duration):\n",
      "    reset_simulation()\n",
      "    fig, charts = plot_charts(x,u,h,r)\n",
      "    \n",
      "    def make_frame(t):\n",
      "        global x,u,h,r\n",
      "        u,h,r = step(x,u,h,r)\n",
      "        for i, v in enumerate([u,h,r]):\n",
      "            charts[i].set_ydata(v)\n",
      "        return mplfig_to_npimage(fig)\n",
      "    \n",
      "    return VideoClip(make_frame, duration=duration)\n",
      "            \n",
      "ipython_display(make_video(10), fps=24)"
     ],
     "language": "python",
     "metadata": {},
     "outputs": []
    },
    {
     "cell_type": "code",
     "collapsed": false,
     "input": [
      "c = plot_charts(x,u,h,r)"
     ],
     "language": "python",
     "metadata": {},
     "outputs": []
    },
    {
     "cell_type": "code",
     "collapsed": false,
     "input": [
      "d = c[1][0]"
     ],
     "language": "python",
     "metadata": {},
     "outputs": []
    },
    {
     "cell_type": "code",
     "collapsed": false,
     "input": [],
     "language": "python",
     "metadata": {},
     "outputs": []
    },
    {
     "cell_type": "code",
     "collapsed": false,
     "input": [],
     "language": "python",
     "metadata": {},
     "outputs": []
    }
   ],
   "metadata": {}
  }
 ]
}