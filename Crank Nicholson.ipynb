{
 "metadata": {
  "name": "",
  "signature": "sha256:06d88b11725e742bf91729746efa3f357d06d8286e802b295160ef9ac2955f88"
 },
 "nbformat": 3,
 "nbformat_minor": 0,
 "worksheets": [
  {
   "cells": [
    {
     "cell_type": "code",
     "collapsed": false,
     "input": [
      "%matplotlib inline\n",
      "\n",
      "import matplotlib.pyplot as plt\n",
      "import numpy as np\n",
      "\n",
      "numpy.set_printoptions(precision=3, suppress=True)"
     ],
     "language": "python",
     "metadata": {},
     "outputs": []
    },
    {
     "cell_type": "markdown",
     "metadata": {},
     "source": [
      "### Simple advection problem\n",
      "\n",
      "$$ "
     ]
    },
    {
     "cell_type": "code",
     "collapsed": false,
     "input": [
      "X = 500.0\n",
      "h = 5.0\n",
      "dx = h\n",
      "dt = 1.0\n",
      "\n",
      "N = X/dx\n",
      "xs = np.linspace(0, X-dx, N)\n",
      "\n",
      "u = np.exp(-((xs - X/2)/(X/12))**2)\n",
      "plt.plot(xs, u)"
     ],
     "language": "python",
     "metadata": {},
     "outputs": []
    },
    {
     "cell_type": "code",
     "collapsed": false,
     "input": [
      "def tridiag(n, d, u, l):\n",
      "    \"\"\"Create an nxn tridiagonal matrix with `d` along diagonal, `u` on\n",
      "    first upper diag and `l` on first lower\"\"\"\n",
      "    M = np.zeros((n,n))\n",
      "    i,j = np.indices((n,n))\n",
      "    M[i == j] = d\n",
      "    M[i == j-1] = u\n",
      "    M[i == j+1] = l\n",
      "    return M"
     ],
     "language": "python",
     "metadata": {},
     "outputs": []
    },
    {
     "cell_type": "markdown",
     "metadata": {},
     "source": [
      "### Basic diffusion equations\n",
      "\n",
      "$$ u_t = K u_{xx} + f(u) $$"
     ]
    },
    {
     "cell_type": "code",
     "collapsed": false,
     "input": [
      "K = 0.5\n",
      "\n",
      "s = (K * dt) / (2 * dx**2)\n",
      "\n",
      "A = tridiag(N, 1+2*s, -s, -s)\n",
      "B = tridiag(N, 1-2*s, s, s)\n",
      "\n",
      "# periodic boundary conditions\n",
      "A[0,-1] = A[-1,0] = -s\n",
      "B[0,-1] = B[-1,0] =  s\n",
      "Ai = np.linalg.inv(A)"
     ],
     "language": "python",
     "metadata": {},
     "outputs": []
    },
    {
     "cell_type": "code",
     "collapsed": false,
     "input": [
      "plt.plot(u)\n",
      "for i in range(100):\n",
      "    u = np.dot(np.dot(Ai, B), u)\n",
      "plt.plot(u)\n",
      "for i in range(100):\n",
      "    u = np.dot(np.dot(Ai, B), u)\n",
      "plt.plot(u)\n",
      "for i in range(100):\n",
      "    u = np.dot(np.dot(Ai, B), u)\n",
      "plt.plot(u)\n",
      "for i in range(100):\n",
      "    u = np.dot(np.dot(Ai, B), u)\n",
      "plt.plot(u)"
     ],
     "language": "python",
     "metadata": {},
     "outputs": []
    },
    {
     "cell_type": "code",
     "collapsed": false,
     "input": [
      "np.linalg.inv(A)"
     ],
     "language": "python",
     "metadata": {},
     "outputs": []
    },
    {
     "cell_type": "code",
     "collapsed": false,
     "input": [
      "DUDXX = tridiag(N, -2*s, s, s)\n",
      "DUDXX[-1,0] = DUDXX[0,-1] = s\n",
      "def ut(u):\n",
      "    return np.dot(DUDXX, u)\n",
      "    \n",
      "ut(u)"
     ],
     "language": "python",
     "metadata": {},
     "outputs": []
    },
    {
     "cell_type": "code",
     "collapsed": false,
     "input": [
      "plot(u)\n",
      "for i in range(100):\n",
      "    u = u - ut(u)\n",
      "plot(u)\n",
      "for i in range(100):\n",
      "    u = u - ut(u)\n",
      "plot(u)\n",
      "for i in range(100):\n",
      "    u = u - ut(u)\n",
      "plot(u)\n",
      "for i in range(100):\n",
      "    u = u - ut(u)\n",
      "plot(u)"
     ],
     "language": "python",
     "metadata": {},
     "outputs": []
    },
    {
     "cell_type": "code",
     "collapsed": false,
     "input": [],
     "language": "python",
     "metadata": {},
     "outputs": []
    }
   ],
   "metadata": {}
  }
 ]
}