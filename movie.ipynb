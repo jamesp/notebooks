{
 "metadata": {
  "name": "",
  "signature": "sha256:f66b1de9b048d953575823cb52d228131d10d6cd226687dd506f69af1957bd60"
 },
 "nbformat": 3,
 "nbformat_minor": 0,
 "worksheets": [
  {
   "cells": [
    {
     "cell_type": "code",
     "collapsed": false,
     "input": [
      "import matplotlib\n",
      "matplotlib.use('agg')\n",
      "\n",
      "import numpy as np\n",
      "\n",
      "import matplotlib.pyplot as plt\n",
      "import moviepy.editor as mpy\n",
      "\n",
      "from IPython.display import display\n",
      "from IPython.display import Image\n"
     ],
     "language": "python",
     "metadata": {},
     "outputs": []
    },
    {
     "cell_type": "code",
     "collapsed": false,
     "input": [
      "from moviepy.video.io.bindings import mplfig_to_npimage\n",
      "\n",
      "# DRAW A FIGURE WITH MATPLOTLIB\n",
      "\n",
      "duration = 2\n",
      "\n",
      "fig_mpl, ax = plt.subplots(1,figsize=(5,3), facecolor='white')\n",
      "xx = np.linspace(-2,2,200) # the x vector\n",
      "zz = lambda d: np.sinc(xx**2)+np.sin(xx+d) # the (changing) z vector\n",
      "ax.set_title(\"Elevation in y=0\")\n",
      "ax.set_ylim(-1.5,2.5)\n",
      "line, = ax.plot(xx, zz(0), lw=3)\n",
      "\n",
      "# ANIMATE WITH MOVIEPY (UPDATE THE CURVE FOR EACH t). MAKE A GIF.\n",
      "\n",
      "def make_frame_mpl(t):\n",
      "    line.set_ydata( zz(2*np.pi*t/duration))  # <= Update the curve\n",
      "    return mplfig_to_npimage(fig_mpl) # RGB image of the figure\n",
      "\n",
      "animation =mpy.VideoClip(make_frame_mpl, duration=duration)\n",
      "animation.write_gif(\"sinc_mpl.gif\", fps=20)\n",
      "Image(url='sinc_mpl.gif')"
     ],
     "language": "python",
     "metadata": {},
     "outputs": []
    },
    {
     "cell_type": "code",
     "collapsed": false,
     "input": [
      "import numpy as np\n",
      "import imageio\n",
      "from IPython.display import Image"
     ],
     "language": "python",
     "metadata": {},
     "outputs": []
    },
    {
     "cell_type": "code",
     "collapsed": false,
     "input": [
      "a = np.zeros((100,100,4))\n",
      "xs = []\n",
      "for i in range(100):\n",
      "    b = np.zeros_like(a)\n",
      "    b[i:i+5,i:i+5] = [i,i,i, 0]\n",
      "    xs.append(b)\n",
      "imageio.mimsave('tmp4.gif', xs)\n",
      "Image(url='tmp4.gif')"
     ],
     "language": "python",
     "metadata": {},
     "outputs": []
    },
    {
     "cell_type": "code",
     "collapsed": false,
     "input": [
      "v = imageio.imread('/Users/jp/Desktop/49_436908d5504ea.png')"
     ],
     "language": "python",
     "metadata": {},
     "outputs": []
    },
    {
     "cell_type": "code",
     "collapsed": false,
     "input": [
      "def showimage(im):\n",
      "    w = imageio.save(imageio.RETURN_BYTES, format='png', mode='i')\n",
      "    c = w.append_data(im)\n",
      "    w.close()\n",
      "    return Image(w.request.get_result())\n",
      "\n",
      "showimage(v)\n"
     ],
     "language": "python",
     "metadata": {},
     "outputs": []
    },
    {
     "cell_type": "code",
     "collapsed": false,
     "input": [],
     "language": "python",
     "metadata": {},
     "outputs": []
    },
    {
     "cell_type": "code",
     "collapsed": false,
     "input": [
      "w.request.get_result()"
     ],
     "language": "python",
     "metadata": {},
     "outputs": []
    },
    {
     "cell_type": "code",
     "collapsed": false,
     "input": [
      "v[:,:,3] = 255"
     ],
     "language": "python",
     "metadata": {},
     "outputs": []
    },
    {
     "cell_type": "code",
     "collapsed": false,
     "input": [
      "N = 500\n",
      "us = np.ones(N) * 90.0\n",
      "us[40] = 95\n",
      "\n",
      "def drawus(us, height = 100, baseline = 80):\n",
      "    N = len(us)\n",
      "    im = np.zeros((height, N))\n",
      "    xs = np.arange(0, N)\n",
      "    ys = height - (us - baseline).astype(int)\n",
      "    im[ys, xs] = 1\n",
      "    return im\n",
      "\n",
      "showimage(drawus(us))"
     ],
     "language": "python",
     "metadata": {},
     "outputs": []
    },
    {
     "cell_type": "code",
     "collapsed": false,
     "input": [
      "h = 0.1\n",
      "\n",
      "def gifify(frames):\n",
      "    id = ''.join([chr(x) for x in np.random.random_integers(65,90,12)])\n",
      "    xs = list(frames)\n",
      "    imageio.mimsave('tmp/%s.gif' % id, xs)\n",
      "    return Image(url='./tmp/%s.gif' % id)\n",
      "\n",
      "uss = []\n",
      "for i in range(1):\n",
      "    us = us + np.convolve(us, np.array([1, -2, 1]) * h, mode='same')\n",
      "    #uss.append(drawus(us))\n",
      "showimage(drawus(us))\n",
      "#gifify(uss)\n"
     ],
     "language": "python",
     "metadata": {},
     "outputs": []
    },
    {
     "cell_type": "code",
     "collapsed": false,
     "input": [
      "us"
     ],
     "language": "python",
     "metadata": {},
     "outputs": []
    },
    {
     "cell_type": "code",
     "collapsed": false,
     "input": [],
     "language": "python",
     "metadata": {},
     "outputs": []
    }
   ],
   "metadata": {}
  }
 ]
}