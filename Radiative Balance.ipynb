{
 "metadata": {
  "name": "",
  "signature": "sha256:d680e5219874b736dedbde828139b165d7754bda02c4c268bd9f87fccac74939"
 },
 "nbformat": 3,
 "nbformat_minor": 0,
 "worksheets": [
  {
   "cells": [
    {
     "cell_type": "markdown",
     "metadata": {},
     "source": [
      "### Radiative Balance\n",
      "\n",
      "#### Black body emission\n",
      "\n",
      "All bodies emit a spectra of radiation.  For a perfect emitter - a _black body_ - the emission spectrum is given by Planck's function:\n",
      "$$ B_\\lambda(T) = \\frac{2\\pi h c^2}{\\lambda^5} \\frac{1}{e^{\\frac{h c}{\\lambda k_B T}} - 1}$$\n",
      "where $c$ is the speed of light, $h$ is the Planck constant and $k_B$ is the Boltzmann constant.\n",
      "\n",
      "Integrated over the entire range of wavelengths yields the _Stephan-Boltzmann_ law giving a relationship between temperature (in $K$) and energy flux (in $W.m^{-2}$).\n",
      "\n",
      "$$ B(T) = \\sigma T^4 $$\n",
      "where $\\sigma$ is the Stephan-Boltzmann constant.\n"
     ]
    },
    {
     "cell_type": "code",
     "collapsed": false,
     "input": [
      "%matplotlib inline\n",
      "\n",
      "import numpy as np\n",
      "import matplotlib.pyplot as plt"
     ],
     "language": "python",
     "metadata": {},
     "outputs": []
    },
    {
     "cell_type": "code",
     "collapsed": false,
     "input": [
      "import scipy.constants as C\n",
      "\n",
      "def planck_wavelength(T, L):\n",
      "    \"\"\"Returns the radiance emission (in W.) with wavelength `l` given off by a black body at a temperature `T`.\"\"\"\n",
      "    h, c, k = C.h, C.c, C.k\n",
      "    return (2.0 * h * c**2 * pi) / (L**5 * (np.exp((h*c)/(L*k*T)) - 1)) \n",
      "\n",
      "def planck_frequency(T, v):\n",
      "    \"\"\"Returns the radiance emission with frequency `v` given off by a black body at a temperature `T`.\"\"\"\n",
      "    h, c, k = C.h, C.c, C.k\n",
      "    return (2.0 * h * v**3) / (c**2 * (np.exp((h*v)/(k*T)) - 1))"
     ],
     "language": "python",
     "metadata": {},
     "outputs": []
    },
    {
     "cell_type": "code",
     "collapsed": false,
     "input": [
      "planck_wavelength(5000, 0.5e-6) / 1e6"
     ],
     "language": "python",
     "metadata": {},
     "outputs": []
    },
    {
     "cell_type": "code",
     "collapsed": false,
     "input": [
      "planck_frequency(5000, 5e10)"
     ],
     "language": "python",
     "metadata": {},
     "outputs": []
    },
    {
     "cell_type": "markdown",
     "metadata": {},
     "source": [
      "Plot the emmission spectra for a black body emitting at 6000K (approximate temperature of the sun's surface).\n",
      "\n",
      "Visible light is in the wavelength range $0.4-0.7\\mu m$, the peak of the sun's emission."
     ]
    },
    {
     "cell_type": "code",
     "collapsed": false,
     "input": [
      "T=6000.0\n",
      "Ls = np.linspace(0.1e-6,4e-6,100)\n",
      "Bs = np.array([planck_wavelength(T, L) for L in Ls])*1e-3\n",
      "plt.plot(Ls*1e6,Bs)\n",
      "plt.vlines([0.4,0.7],0,max(Bs),'r')  # visible light range\n",
      "plt.xlabel('Wavelength ($\\mu m$)')\n",
      "plt.ylabel('Spectral Radiance ($kW.sr^{-1}.m^{-3}$)')"
     ],
     "language": "python",
     "metadata": {},
     "outputs": []
    },
    {
     "cell_type": "code",
     "collapsed": false,
     "input": [
      "def SB_radiation(T, emissivity=1.0):\n",
      "    \"\"\"Returns the energy flux (in W.m^-2) for a black body at temperature `T` K.\"\"\"\n",
      "    return emissivity * C.sigma * T**4\n",
      "\n",
      "def SB_temperature(B, albedo=0.0):\n",
      "    \"\"\"Returns the temperature (in K) of a black body emitting radiation at `B` W.m^-2.\"\"\"\n",
      "    return ((B*(1-albedo)) / C.sigma)**0.25\n",
      "\n",
      "SB_radiation(300, 0.91)\n",
      "SB_temperature(342, 0.3)"
     ],
     "language": "python",
     "metadata": {},
     "outputs": []
    },
    {
     "cell_type": "code",
     "collapsed": false,
     "input": [],
     "language": "python",
     "metadata": {},
     "outputs": []
    }
   ],
   "metadata": {}
  }
 ]
}